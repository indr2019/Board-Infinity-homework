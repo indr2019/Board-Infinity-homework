{
  "nbformat": 4,
  "nbformat_minor": 0,
  "metadata": {
    "colab": {
      "name": "Python Assignment 1.ipynb",
      "provenance": [],
      "collapsed_sections": [],
      "authorship_tag": "ABX9TyMDE8u5KVzwI8bvaR41GZSJ",
      "include_colab_link": true
    },
    "kernelspec": {
      "name": "python3",
      "display_name": "Python 3"
    }
  },
  "cells": [
    {
      "cell_type": "markdown",
      "metadata": {
        "id": "view-in-github",
        "colab_type": "text"
      },
      "source": [
        "<a href=\"https://colab.research.google.com/github/indr2019/Board-Infinity-homework/blob/master/Python_Assignment_1.ipynb\" target=\"_parent\"><img src=\"https://colab.research.google.com/assets/colab-badge.svg\" alt=\"Open In Colab\"/></a>"
      ]
    },
    {
      "cell_type": "code",
      "metadata": {
        "id": "gdtqioZiDdZj",
        "colab_type": "code",
        "colab": {
          "base_uri": "https://localhost:8080/",
          "height": 204
        },
        "outputId": "73a2362e-aa96-463b-9f63-932aa24a149b"
      },
      "source": [
        "# Creating a dataframe for the exercise\n",
        "import numpy as np\n",
        "import pandas as pd\n",
        "import matplotlib.pyplot as plt\n",
        "import seaborn as sns\n",
        "%matplotlib inline\n",
        "tips = pd.read_excel('https://docs.google.com/spreadsheets/d/e/2PACX-1vTPqLOTtWjWnbPtQdTUq-CrGRnxiWRJ-Pfz2VAt8hxzPzS9E_plqoY6RbGXk8upHa2N6CM9RHkuq0N7/pub?output=xlsx')\n",
        "tips.head()"
      ],
      "execution_count": 63,
      "outputs": [
        {
          "output_type": "execute_result",
          "data": {
            "text/html": [
              "<div>\n",
              "<style scoped>\n",
              "    .dataframe tbody tr th:only-of-type {\n",
              "        vertical-align: middle;\n",
              "    }\n",
              "\n",
              "    .dataframe tbody tr th {\n",
              "        vertical-align: top;\n",
              "    }\n",
              "\n",
              "    .dataframe thead th {\n",
              "        text-align: right;\n",
              "    }\n",
              "</style>\n",
              "<table border=\"1\" class=\"dataframe\">\n",
              "  <thead>\n",
              "    <tr style=\"text-align: right;\">\n",
              "      <th></th>\n",
              "      <th>total_bill</th>\n",
              "      <th>tip</th>\n",
              "      <th>sex</th>\n",
              "      <th>smoker</th>\n",
              "      <th>day</th>\n",
              "      <th>time</th>\n",
              "      <th>size</th>\n",
              "    </tr>\n",
              "  </thead>\n",
              "  <tbody>\n",
              "    <tr>\n",
              "      <th>0</th>\n",
              "      <td>16.99</td>\n",
              "      <td>1.01</td>\n",
              "      <td>Female</td>\n",
              "      <td>No</td>\n",
              "      <td>Sun</td>\n",
              "      <td>Dinner</td>\n",
              "      <td>2</td>\n",
              "    </tr>\n",
              "    <tr>\n",
              "      <th>1</th>\n",
              "      <td>10.34</td>\n",
              "      <td>1.66</td>\n",
              "      <td>Male</td>\n",
              "      <td>No</td>\n",
              "      <td>Sun</td>\n",
              "      <td>Dinner</td>\n",
              "      <td>3</td>\n",
              "    </tr>\n",
              "    <tr>\n",
              "      <th>2</th>\n",
              "      <td>21.01</td>\n",
              "      <td>3.50</td>\n",
              "      <td>Male</td>\n",
              "      <td>No</td>\n",
              "      <td>Sun</td>\n",
              "      <td>Dinner</td>\n",
              "      <td>3</td>\n",
              "    </tr>\n",
              "    <tr>\n",
              "      <th>3</th>\n",
              "      <td>23.68</td>\n",
              "      <td>3.31</td>\n",
              "      <td>Male</td>\n",
              "      <td>No</td>\n",
              "      <td>Sun</td>\n",
              "      <td>Dinner</td>\n",
              "      <td>2</td>\n",
              "    </tr>\n",
              "    <tr>\n",
              "      <th>4</th>\n",
              "      <td>24.59</td>\n",
              "      <td>3.61</td>\n",
              "      <td>Female</td>\n",
              "      <td>No</td>\n",
              "      <td>Sun</td>\n",
              "      <td>Dinner</td>\n",
              "      <td>4</td>\n",
              "    </tr>\n",
              "  </tbody>\n",
              "</table>\n",
              "</div>"
            ],
            "text/plain": [
              "   total_bill   tip     sex smoker  day    time  size\n",
              "0       16.99  1.01  Female     No  Sun  Dinner     2\n",
              "1       10.34  1.66    Male     No  Sun  Dinner     3\n",
              "2       21.01  3.50    Male     No  Sun  Dinner     3\n",
              "3       23.68  3.31    Male     No  Sun  Dinner     2\n",
              "4       24.59  3.61  Female     No  Sun  Dinner     4"
            ]
          },
          "metadata": {
            "tags": []
          },
          "execution_count": 63
        }
      ]
    },
    {
      "cell_type": "code",
      "metadata": {
        "id": "j6sPVXEQdcjz",
        "colab_type": "code",
        "colab": {
          "base_uri": "https://localhost:8080/",
          "height": 221
        },
        "outputId": "3d76582b-7b02-4a89-ea77-bc1c7361a0b1"
      },
      "source": [
        "tips.info()"
      ],
      "execution_count": 14,
      "outputs": [
        {
          "output_type": "stream",
          "text": [
            "<class 'pandas.core.frame.DataFrame'>\n",
            "RangeIndex: 244 entries, 0 to 243\n",
            "Data columns (total 7 columns):\n",
            "total_bill    244 non-null float64\n",
            "tip           244 non-null float64\n",
            "sex           244 non-null object\n",
            "smoker        244 non-null object\n",
            "day           244 non-null object\n",
            "time          244 non-null object\n",
            "size          244 non-null int64\n",
            "dtypes: float64(2), int64(1), object(4)\n",
            "memory usage: 13.5+ KB\n"
          ],
          "name": "stdout"
        }
      ]
    },
    {
      "cell_type": "markdown",
      "metadata": {
        "id": "K82wPF07fI3T",
        "colab_type": "text"
      },
      "source": [
        "\n",
        "#### Q1:What is the overall average tip?"
      ]
    },
    {
      "cell_type": "code",
      "metadata": {
        "id": "2rUa2V0_EZ-g",
        "colab_type": "code",
        "colab": {
          "base_uri": "https://localhost:8080/",
          "height": 34
        },
        "outputId": "3f23506b-27e6-4c84-9af4-1c4c56557d72"
      },
      "source": [
        "tips['tip'].mean()"
      ],
      "execution_count": 7,
      "outputs": [
        {
          "output_type": "execute_result",
          "data": {
            "text/plain": [
              "2.9982786885245902"
            ]
          },
          "metadata": {
            "tags": []
          },
          "execution_count": 7
        }
      ]
    },
    {
      "cell_type": "markdown",
      "metadata": {
        "id": "34Uj1Sv8d8Zx",
        "colab_type": "text"
      },
      "source": [
        "#### Q2: Get a numerical summary for 'tip' - are the median and mean very different? What does this tell you about the field?"
      ]
    },
    {
      "cell_type": "code",
      "metadata": {
        "id": "ybK3o-kicTua",
        "colab_type": "code",
        "colab": {
          "base_uri": "https://localhost:8080/",
          "height": 170
        },
        "outputId": "8456ba1f-0312-4e9d-e06e-a3fcc51d8b8a"
      },
      "source": [
        "# Summary for 'tip'\n",
        "tips['tip'].describe()"
      ],
      "execution_count": 9,
      "outputs": [
        {
          "output_type": "execute_result",
          "data": {
            "text/plain": [
              "count    244.000000\n",
              "mean       2.998279\n",
              "std        1.383638\n",
              "min        1.000000\n",
              "25%        2.000000\n",
              "50%        2.900000\n",
              "75%        3.562500\n",
              "max       10.000000\n",
              "Name: tip, dtype: float64"
            ]
          },
          "metadata": {
            "tags": []
          },
          "execution_count": 9
        }
      ]
    },
    {
      "cell_type": "code",
      "metadata": {
        "id": "BI9r5rlMcQDh",
        "colab_type": "code",
        "colab": {
          "base_uri": "https://localhost:8080/",
          "height": 34
        },
        "outputId": "4bf28be6-c635-4422-800a-17abc868d814"
      },
      "source": [
        "np.median(tips['tip'])"
      ],
      "execution_count": 15,
      "outputs": [
        {
          "output_type": "execute_result",
          "data": {
            "text/plain": [
              "2.9"
            ]
          },
          "metadata": {
            "tags": []
          },
          "execution_count": 15
        }
      ]
    },
    {
      "cell_type": "code",
      "metadata": {
        "id": "s5aKDFykeNlp",
        "colab_type": "code",
        "colab": {
          "base_uri": "https://localhost:8080/",
          "height": 34
        },
        "outputId": "731a4d84-b15e-439e-cbae-7e0b91717620"
      },
      "source": [
        "np.mean(tips['tip'])"
      ],
      "execution_count": 16,
      "outputs": [
        {
          "output_type": "execute_result",
          "data": {
            "text/plain": [
              "2.9982786885245902"
            ]
          },
          "metadata": {
            "tags": []
          },
          "execution_count": 16
        }
      ]
    },
    {
      "cell_type": "markdown",
      "metadata": {
        "id": "qael4TLme1yq",
        "colab_type": "text"
      },
      "source": [
        "The mean and median for the column 'tip' is the similar. Hence on an average customers have tipped close to $3"
      ]
    },
    {
      "cell_type": "markdown",
      "metadata": {
        "id": "J-AKu_sAffCB",
        "colab_type": "text"
      },
      "source": [
        "#### Q3: Prepare a boxplot for 'tip', are there any outliers?"
      ]
    },
    {
      "cell_type": "code",
      "metadata": {
        "id": "jWl0wpqgfY26",
        "colab_type": "code",
        "colab": {
          "base_uri": "https://localhost:8080/",
          "height": 281
        },
        "outputId": "8a960046-51bc-4f1a-981a-f4379dcfda2c"
      },
      "source": [
        "# boxplot for 'tip'\n",
        "\n",
        "plt.boxplot(tips['tip'])\n",
        "plt.title('Boxplot for tip')\n",
        "plt.ylabel('Amount in US $')\n",
        "plt.show()"
      ],
      "execution_count": 20,
      "outputs": [
        {
          "output_type": "display_data",
          "data": {
            "image/png": "[encoded data removed]",
            "text/plain": [
              "<Figure size 432x288 with 1 Axes>"
            ]
          },
          "metadata": {
            "tags": []
          }
        }
      ]
    },
    {
      "cell_type": "markdown",
      "metadata": {
        "id": "-8uUHmDhfzgK",
        "colab_type": "text"
      },
      "source": [
        "Yes there are outliers present between 7 USD to 10 USD"
      ]
    },
    {
      "cell_type": "markdown",
      "metadata": {
        "id": "DzomtKXMghe7",
        "colab_type": "text"
      },
      "source": [
        "#### Q4: Prepare a boxplot for 'total_bill', are there any outliers?"
      ]
    },
    {
      "cell_type": "code",
      "metadata": {
        "id": "TRUnqjsNeXOo",
        "colab_type": "code",
        "colab": {
          "base_uri": "https://localhost:8080/",
          "height": 281
        },
        "outputId": "25bb8335-2904-467d-985a-452ad358b441"
      },
      "source": [
        "#  Boxplot for 'total_bill'\n",
        "\n",
        "plt.boxplot(tips['total_bill'])\n",
        "plt.title('Boxplot for total bill')\n",
        "plt.ylabel('Amount in US $')\n",
        "plt.show()"
      ],
      "execution_count": 21,
      "outputs": [
        {
          "output_type": "display_data",
          "data": {
            "image/png": "[encoded data removed]",
            "text/plain": [
              "<Figure size 432x288 with 1 Axes>"
            ]
          },
          "metadata": {
            "tags": []
          }
        }
      ]
    },
    {
      "cell_type": "markdown",
      "metadata": {
        "id": "pHR5thp3hWTi",
        "colab_type": "text"
      },
      "source": [
        "Yes there are outliers present for column 'total_bill'"
      ]
    },
    {
      "cell_type": "markdown",
      "metadata": {
        "id": "6Pd_plIkhfFJ",
        "colab_type": "text"
      },
      "source": [
        "#### Q5: Gender: what is the percent of females in the data? "
      ]
    },
    {
      "cell_type": "code",
      "metadata": {
        "id": "KPkfXuYxgyU4",
        "colab_type": "code",
        "colab": {
          "base_uri": "https://localhost:8080/",
          "height": 68
        },
        "outputId": "ab294287-d4d4-410a-9ba6-a60845f90200"
      },
      "source": [
        "# Percentage of females in the data\n",
        "tips['sex'].value_counts()"
      ],
      "execution_count": 22,
      "outputs": [
        {
          "output_type": "execute_result",
          "data": {
            "text/plain": [
              "Male      157\n",
              "Female     87\n",
              "Name: sex, dtype: int64"
            ]
          },
          "metadata": {
            "tags": []
          },
          "execution_count": 22
        }
      ]
    },
    {
      "cell_type": "code",
      "metadata": {
        "id": "1v-0dPL6ikoJ",
        "colab_type": "code",
        "colab": {
          "base_uri": "https://localhost:8080/",
          "height": 34
        },
        "outputId": "435bb8d6-5ade-40f0-ad55-c4e462f1d3ca"
      },
      "source": [
        "fem_perc = (87/244)*100\n",
        "print('Percentage of females is ',round(fem_perc,2))"
      ],
      "execution_count": 56,
      "outputs": [
        {
          "output_type": "stream",
          "text": [
            "Percentage of females is  35.66\n"
          ],
          "name": "stdout"
        }
      ]
    },
    {
      "cell_type": "markdown",
      "metadata": {
        "id": "-d4hGOGQlCTG",
        "colab_type": "text"
      },
      "source": [
        "#### Q6: Prepare a bar plot with the bars representing the percentage of records for each gender."
      ]
    },
    {
      "cell_type": "code",
      "metadata": {
        "id": "JnUK0_t4jlww",
        "colab_type": "code",
        "colab": {
          "base_uri": "https://localhost:8080/",
          "height": 281
        },
        "outputId": "54963688-1bda-4240-88ae-676d711ff8de"
      },
      "source": [
        "plt.bar(tips['sex'].value_counts().keys(), tips['sex'].value_counts().values)\n",
        "plt.title('Male vs Female')\n",
        "plt.show()"
      ],
      "execution_count": 32,
      "outputs": [
        {
          "output_type": "display_data",
          "data": {
            "image/png": "[encoded data removed]",
            "text/plain": [
              "<Figure size 432x288 with 1 Axes>"
            ]
          },
          "metadata": {
            "tags": []
          }
        }
      ]
    },
    {
      "cell_type": "markdown",
      "metadata": {
        "id": "HpjmIxEzmJG9",
        "colab_type": "text"
      },
      "source": [
        "#### Q7: Does the average tip differ by gender? Does one gender tip more than the other?"
      ]
    },
    {
      "cell_type": "code",
      "metadata": {
        "id": "U62UjtP4lt3C",
        "colab_type": "code",
        "colab": {
          "base_uri": "https://localhost:8080/",
          "height": 142
        },
        "outputId": "a0b2ed79-73ef-41cc-9add-a88ef0e7033c"
      },
      "source": [
        "tips.groupby(['sex']).describe()['tip']"
      ],
      "execution_count": 35,
      "outputs": [
        {
          "output_type": "execute_result",
          "data": {
            "text/html": [
              "<div>\n",
              "<style scoped>\n",
              "    .dataframe tbody tr th:only-of-type {\n",
              "        vertical-align: middle;\n",
              "    }\n",
              "\n",
              "    .dataframe tbody tr th {\n",
              "        vertical-align: top;\n",
              "    }\n",
              "\n",
              "    .dataframe thead th {\n",
              "        text-align: right;\n",
              "    }\n",
              "</style>\n",
              "<table border=\"1\" class=\"dataframe\">\n",
              "  <thead>\n",
              "    <tr style=\"text-align: right;\">\n",
              "      <th></th>\n",
              "      <th>count</th>\n",
              "      <th>mean</th>\n",
              "      <th>std</th>\n",
              "      <th>min</th>\n",
              "      <th>25%</th>\n",
              "      <th>50%</th>\n",
              "      <th>75%</th>\n",
              "      <th>max</th>\n",
              "    </tr>\n",
              "    <tr>\n",
              "      <th>sex</th>\n",
              "      <th></th>\n",
              "      <th></th>\n",
              "      <th></th>\n",
              "      <th></th>\n",
              "      <th></th>\n",
              "      <th></th>\n",
              "      <th></th>\n",
              "      <th></th>\n",
              "    </tr>\n",
              "  </thead>\n",
              "  <tbody>\n",
              "    <tr>\n",
              "      <th>Female</th>\n",
              "      <td>87.0</td>\n",
              "      <td>2.833448</td>\n",
              "      <td>1.159495</td>\n",
              "      <td>1.0</td>\n",
              "      <td>2.0</td>\n",
              "      <td>2.75</td>\n",
              "      <td>3.50</td>\n",
              "      <td>6.5</td>\n",
              "    </tr>\n",
              "    <tr>\n",
              "      <th>Male</th>\n",
              "      <td>157.0</td>\n",
              "      <td>3.089618</td>\n",
              "      <td>1.489102</td>\n",
              "      <td>1.0</td>\n",
              "      <td>2.0</td>\n",
              "      <td>3.00</td>\n",
              "      <td>3.76</td>\n",
              "      <td>10.0</td>\n",
              "    </tr>\n",
              "  </tbody>\n",
              "</table>\n",
              "</div>"
            ],
            "text/plain": [
              "        count      mean       std  min  25%   50%   75%   max\n",
              "sex                                                          \n",
              "Female   87.0  2.833448  1.159495  1.0  2.0  2.75  3.50   6.5\n",
              "Male    157.0  3.089618  1.489102  1.0  2.0  3.00  3.76  10.0"
            ]
          },
          "metadata": {
            "tags": []
          },
          "execution_count": 35
        }
      ]
    },
    {
      "cell_type": "markdown",
      "metadata": {
        "id": "WuDyW6_gnePc",
        "colab_type": "text"
      },
      "source": [
        "On an average males and females tip almost the same however on maximum value the males tip more than the females"
      ]
    },
    {
      "cell_type": "markdown",
      "metadata": {
        "id": "uW1HPBD2nyo0",
        "colab_type": "text"
      },
      "source": [
        "#### Q8: Does the average tip differ by the time of day?"
      ]
    },
    {
      "cell_type": "code",
      "metadata": {
        "id": "z-ib96xBnD7x",
        "colab_type": "code",
        "colab": {
          "base_uri": "https://localhost:8080/",
          "height": 204
        },
        "outputId": "fd13ac1e-192e-4b4e-8339-d1a6989a7fea"
      },
      "source": [
        "tips.groupby(['sex', 'time']).describe()['tip']"
      ],
      "execution_count": 38,
      "outputs": [
        {
          "output_type": "execute_result",
          "data": {
            "text/html": [
              "<div>\n",
              "<style scoped>\n",
              "    .dataframe tbody tr th:only-of-type {\n",
              "        vertical-align: middle;\n",
              "    }\n",
              "\n",
              "    .dataframe tbody tr th {\n",
              "        vertical-align: top;\n",
              "    }\n",
              "\n",
              "    .dataframe thead th {\n",
              "        text-align: right;\n",
              "    }\n",
              "</style>\n",
              "<table border=\"1\" class=\"dataframe\">\n",
              "  <thead>\n",
              "    <tr style=\"text-align: right;\">\n",
              "      <th></th>\n",
              "      <th></th>\n",
              "      <th>count</th>\n",
              "      <th>mean</th>\n",
              "      <th>std</th>\n",
              "      <th>min</th>\n",
              "      <th>25%</th>\n",
              "      <th>50%</th>\n",
              "      <th>75%</th>\n",
              "      <th>max</th>\n",
              "    </tr>\n",
              "    <tr>\n",
              "      <th>sex</th>\n",
              "      <th>time</th>\n",
              "      <th></th>\n",
              "      <th></th>\n",
              "      <th></th>\n",
              "      <th></th>\n",
              "      <th></th>\n",
              "      <th></th>\n",
              "      <th></th>\n",
              "      <th></th>\n",
              "    </tr>\n",
              "  </thead>\n",
              "  <tbody>\n",
              "    <tr>\n",
              "      <th rowspan=\"2\" valign=\"top\">Female</th>\n",
              "      <th>Dinner</th>\n",
              "      <td>52.0</td>\n",
              "      <td>3.002115</td>\n",
              "      <td>1.193483</td>\n",
              "      <td>1.00</td>\n",
              "      <td>2.230</td>\n",
              "      <td>3.00</td>\n",
              "      <td>3.5275</td>\n",
              "      <td>6.50</td>\n",
              "    </tr>\n",
              "    <tr>\n",
              "      <th>Lunch</th>\n",
              "      <td>35.0</td>\n",
              "      <td>2.582857</td>\n",
              "      <td>1.075108</td>\n",
              "      <td>1.25</td>\n",
              "      <td>1.915</td>\n",
              "      <td>2.01</td>\n",
              "      <td>3.1150</td>\n",
              "      <td>5.17</td>\n",
              "    </tr>\n",
              "    <tr>\n",
              "      <th rowspan=\"2\" valign=\"top\">Male</th>\n",
              "      <th>Dinner</th>\n",
              "      <td>124.0</td>\n",
              "      <td>3.144839</td>\n",
              "      <td>1.529116</td>\n",
              "      <td>1.00</td>\n",
              "      <td>2.000</td>\n",
              "      <td>3.00</td>\n",
              "      <td>3.7225</td>\n",
              "      <td>10.00</td>\n",
              "    </tr>\n",
              "    <tr>\n",
              "      <th>Lunch</th>\n",
              "      <td>33.0</td>\n",
              "      <td>2.882121</td>\n",
              "      <td>1.329017</td>\n",
              "      <td>1.44</td>\n",
              "      <td>2.000</td>\n",
              "      <td>2.31</td>\n",
              "      <td>4.0000</td>\n",
              "      <td>6.70</td>\n",
              "    </tr>\n",
              "  </tbody>\n",
              "</table>\n",
              "</div>"
            ],
            "text/plain": [
              "               count      mean       std   min    25%   50%     75%    max\n",
              "sex    time                                                               \n",
              "Female Dinner   52.0  3.002115  1.193483  1.00  2.230  3.00  3.5275   6.50\n",
              "       Lunch    35.0  2.582857  1.075108  1.25  1.915  2.01  3.1150   5.17\n",
              "Male   Dinner  124.0  3.144839  1.529116  1.00  2.000  3.00  3.7225  10.00\n",
              "       Lunch    33.0  2.882121  1.329017  1.44  2.000  2.31  4.0000   6.70"
            ]
          },
          "metadata": {
            "tags": []
          },
          "execution_count": 38
        }
      ]
    },
    {
      "cell_type": "markdown",
      "metadata": {
        "id": "OhQ0sqFloyy0",
        "colab_type": "text"
      },
      "source": [
        "On an average the males and females tip almost the same for the time of the day. However on higher side the males are tipping more than females during dinner"
      ]
    },
    {
      "cell_type": "markdown",
      "metadata": {
        "id": "ZPKeX2P6pRRE",
        "colab_type": "text"
      },
      "source": [
        "#### Q9: Does the average tip differ by size (number of people at the table)? "
      ]
    },
    {
      "cell_type": "code",
      "metadata": {
        "id": "Zw3fRYmLn9pg",
        "colab_type": "code",
        "colab": {
          "base_uri": "https://localhost:8080/",
          "height": 204
        },
        "outputId": "04e5ba71-1103-4f88-ac8c-753654aa4be1"
      },
      "source": [
        "tips.groupby(['day']).describe()['tip']"
      ],
      "execution_count": 39,
      "outputs": [
        {
          "output_type": "execute_result",
          "data": {
            "text/html": [
              "<div>\n",
              "<style scoped>\n",
              "    .dataframe tbody tr th:only-of-type {\n",
              "        vertical-align: middle;\n",
              "    }\n",
              "\n",
              "    .dataframe tbody tr th {\n",
              "        vertical-align: top;\n",
              "    }\n",
              "\n",
              "    .dataframe thead th {\n",
              "        text-align: right;\n",
              "    }\n",
              "</style>\n",
              "<table border=\"1\" class=\"dataframe\">\n",
              "  <thead>\n",
              "    <tr style=\"text-align: right;\">\n",
              "      <th></th>\n",
              "      <th>count</th>\n",
              "      <th>mean</th>\n",
              "      <th>std</th>\n",
              "      <th>min</th>\n",
              "      <th>25%</th>\n",
              "      <th>50%</th>\n",
              "      <th>75%</th>\n",
              "      <th>max</th>\n",
              "    </tr>\n",
              "    <tr>\n",
              "      <th>day</th>\n",
              "      <th></th>\n",
              "      <th></th>\n",
              "      <th></th>\n",
              "      <th></th>\n",
              "      <th></th>\n",
              "      <th></th>\n",
              "      <th></th>\n",
              "      <th></th>\n",
              "    </tr>\n",
              "  </thead>\n",
              "  <tbody>\n",
              "    <tr>\n",
              "      <th>Fri</th>\n",
              "      <td>19.0</td>\n",
              "      <td>2.734737</td>\n",
              "      <td>1.019577</td>\n",
              "      <td>1.00</td>\n",
              "      <td>1.9600</td>\n",
              "      <td>3.000</td>\n",
              "      <td>3.3650</td>\n",
              "      <td>4.73</td>\n",
              "    </tr>\n",
              "    <tr>\n",
              "      <th>Sat</th>\n",
              "      <td>87.0</td>\n",
              "      <td>2.993103</td>\n",
              "      <td>1.631014</td>\n",
              "      <td>1.00</td>\n",
              "      <td>2.0000</td>\n",
              "      <td>2.750</td>\n",
              "      <td>3.3700</td>\n",
              "      <td>10.00</td>\n",
              "    </tr>\n",
              "    <tr>\n",
              "      <th>Sun</th>\n",
              "      <td>76.0</td>\n",
              "      <td>3.255132</td>\n",
              "      <td>1.234880</td>\n",
              "      <td>1.01</td>\n",
              "      <td>2.0375</td>\n",
              "      <td>3.150</td>\n",
              "      <td>4.0000</td>\n",
              "      <td>6.50</td>\n",
              "    </tr>\n",
              "    <tr>\n",
              "      <th>Thur</th>\n",
              "      <td>62.0</td>\n",
              "      <td>2.771452</td>\n",
              "      <td>1.240223</td>\n",
              "      <td>1.25</td>\n",
              "      <td>2.0000</td>\n",
              "      <td>2.305</td>\n",
              "      <td>3.3625</td>\n",
              "      <td>6.70</td>\n",
              "    </tr>\n",
              "  </tbody>\n",
              "</table>\n",
              "</div>"
            ],
            "text/plain": [
              "      count      mean       std   min     25%    50%     75%    max\n",
              "day                                                                \n",
              "Fri    19.0  2.734737  1.019577  1.00  1.9600  3.000  3.3650   4.73\n",
              "Sat    87.0  2.993103  1.631014  1.00  2.0000  2.750  3.3700  10.00\n",
              "Sun    76.0  3.255132  1.234880  1.01  2.0375  3.150  4.0000   6.50\n",
              "Thur   62.0  2.771452  1.240223  1.25  2.0000  2.305  3.3625   6.70"
            ]
          },
          "metadata": {
            "tags": []
          },
          "execution_count": 39
        }
      ]
    },
    {
      "cell_type": "markdown",
      "metadata": {
        "id": "ElaMxm8SrCyM",
        "colab_type": "text"
      },
      "source": [
        "The average tip differs slightly by size of people if we consider the number of people for that day of the week"
      ]
    },
    {
      "cell_type": "markdown",
      "metadata": {
        "id": "SJuCjZgpra1F",
        "colab_type": "text"
      },
      "source": [
        "#### Q10: Do smokers tip more than non-smokers?"
      ]
    },
    {
      "cell_type": "code",
      "metadata": {
        "id": "UtpRPexDqqtz",
        "colab_type": "code",
        "colab": {
          "base_uri": "https://localhost:8080/",
          "height": 142
        },
        "outputId": "f6bd1ea4-cbd8-4a22-938a-2d1b5d05a93c"
      },
      "source": [
        "tips.groupby(['smoker']).describe()['tip']"
      ],
      "execution_count": 40,
      "outputs": [
        {
          "output_type": "execute_result",
          "data": {
            "text/html": [
              "<div>\n",
              "<style scoped>\n",
              "    .dataframe tbody tr th:only-of-type {\n",
              "        vertical-align: middle;\n",
              "    }\n",
              "\n",
              "    .dataframe tbody tr th {\n",
              "        vertical-align: top;\n",
              "    }\n",
              "\n",
              "    .dataframe thead th {\n",
              "        text-align: right;\n",
              "    }\n",
              "</style>\n",
              "<table border=\"1\" class=\"dataframe\">\n",
              "  <thead>\n",
              "    <tr style=\"text-align: right;\">\n",
              "      <th></th>\n",
              "      <th>count</th>\n",
              "      <th>mean</th>\n",
              "      <th>std</th>\n",
              "      <th>min</th>\n",
              "      <th>25%</th>\n",
              "      <th>50%</th>\n",
              "      <th>75%</th>\n",
              "      <th>max</th>\n",
              "    </tr>\n",
              "    <tr>\n",
              "      <th>smoker</th>\n",
              "      <th></th>\n",
              "      <th></th>\n",
              "      <th></th>\n",
              "      <th></th>\n",
              "      <th></th>\n",
              "      <th></th>\n",
              "      <th></th>\n",
              "      <th></th>\n",
              "    </tr>\n",
              "  </thead>\n",
              "  <tbody>\n",
              "    <tr>\n",
              "      <th>No</th>\n",
              "      <td>151.0</td>\n",
              "      <td>2.991854</td>\n",
              "      <td>1.377190</td>\n",
              "      <td>1.0</td>\n",
              "      <td>2.0</td>\n",
              "      <td>2.74</td>\n",
              "      <td>3.505</td>\n",
              "      <td>9.0</td>\n",
              "    </tr>\n",
              "    <tr>\n",
              "      <th>Yes</th>\n",
              "      <td>93.0</td>\n",
              "      <td>3.008710</td>\n",
              "      <td>1.401468</td>\n",
              "      <td>1.0</td>\n",
              "      <td>2.0</td>\n",
              "      <td>3.00</td>\n",
              "      <td>3.680</td>\n",
              "      <td>10.0</td>\n",
              "    </tr>\n",
              "  </tbody>\n",
              "</table>\n",
              "</div>"
            ],
            "text/plain": [
              "        count      mean       std  min  25%   50%    75%   max\n",
              "smoker                                                        \n",
              "No      151.0  2.991854  1.377190  1.0  2.0  2.74  3.505   9.0\n",
              "Yes      93.0  3.008710  1.401468  1.0  2.0  3.00  3.680  10.0"
            ]
          },
          "metadata": {
            "tags": []
          },
          "execution_count": 40
        }
      ]
    },
    {
      "cell_type": "markdown",
      "metadata": {
        "id": "G5G6ViHk-Z2l",
        "colab_type": "text"
      },
      "source": [
        "No. Smokers and non smokers on an average are tipping almost the same"
      ]
    },
    {
      "cell_type": "markdown",
      "metadata": {
        "id": "oFGGmmK6-lcN",
        "colab_type": "text"
      },
      "source": [
        "#### Q11: Gender vs. smoker/non-smoker and tip size - create a 2 by 2 and get the average tip size. Which group tips the most?"
      ]
    },
    {
      "cell_type": "code",
      "metadata": {
        "id": "IcPUZVFB-Pzj",
        "colab_type": "code",
        "colab": {
          "base_uri": "https://localhost:8080/",
          "height": 204
        },
        "outputId": "316c36fc-9d99-4a7d-9daa-354e44804548"
      },
      "source": [
        "tips.groupby(['smoker', 'sex']).describe()['tip']"
      ],
      "execution_count": 41,
      "outputs": [
        {
          "output_type": "execute_result",
          "data": {
            "text/html": [
              "<div>\n",
              "<style scoped>\n",
              "    .dataframe tbody tr th:only-of-type {\n",
              "        vertical-align: middle;\n",
              "    }\n",
              "\n",
              "    .dataframe tbody tr th {\n",
              "        vertical-align: top;\n",
              "    }\n",
              "\n",
              "    .dataframe thead th {\n",
              "        text-align: right;\n",
              "    }\n",
              "</style>\n",
              "<table border=\"1\" class=\"dataframe\">\n",
              "  <thead>\n",
              "    <tr style=\"text-align: right;\">\n",
              "      <th></th>\n",
              "      <th></th>\n",
              "      <th>count</th>\n",
              "      <th>mean</th>\n",
              "      <th>std</th>\n",
              "      <th>min</th>\n",
              "      <th>25%</th>\n",
              "      <th>50%</th>\n",
              "      <th>75%</th>\n",
              "      <th>max</th>\n",
              "    </tr>\n",
              "    <tr>\n",
              "      <th>smoker</th>\n",
              "      <th>sex</th>\n",
              "      <th></th>\n",
              "      <th></th>\n",
              "      <th></th>\n",
              "      <th></th>\n",
              "      <th></th>\n",
              "      <th></th>\n",
              "      <th></th>\n",
              "      <th></th>\n",
              "    </tr>\n",
              "  </thead>\n",
              "  <tbody>\n",
              "    <tr>\n",
              "      <th rowspan=\"2\" valign=\"top\">No</th>\n",
              "      <th>Female</th>\n",
              "      <td>54.0</td>\n",
              "      <td>2.773519</td>\n",
              "      <td>1.128425</td>\n",
              "      <td>1.00</td>\n",
              "      <td>2.0</td>\n",
              "      <td>2.68</td>\n",
              "      <td>3.4375</td>\n",
              "      <td>5.2</td>\n",
              "    </tr>\n",
              "    <tr>\n",
              "      <th>Male</th>\n",
              "      <td>97.0</td>\n",
              "      <td>3.113402</td>\n",
              "      <td>1.489559</td>\n",
              "      <td>1.25</td>\n",
              "      <td>2.0</td>\n",
              "      <td>2.74</td>\n",
              "      <td>3.7100</td>\n",
              "      <td>9.0</td>\n",
              "    </tr>\n",
              "    <tr>\n",
              "      <th rowspan=\"2\" valign=\"top\">Yes</th>\n",
              "      <th>Female</th>\n",
              "      <td>33.0</td>\n",
              "      <td>2.931515</td>\n",
              "      <td>1.219916</td>\n",
              "      <td>1.00</td>\n",
              "      <td>2.0</td>\n",
              "      <td>2.88</td>\n",
              "      <td>3.5000</td>\n",
              "      <td>6.5</td>\n",
              "    </tr>\n",
              "    <tr>\n",
              "      <th>Male</th>\n",
              "      <td>60.0</td>\n",
              "      <td>3.051167</td>\n",
              "      <td>1.500120</td>\n",
              "      <td>1.00</td>\n",
              "      <td>2.0</td>\n",
              "      <td>3.00</td>\n",
              "      <td>3.8200</td>\n",
              "      <td>10.0</td>\n",
              "    </tr>\n",
              "  </tbody>\n",
              "</table>\n",
              "</div>"
            ],
            "text/plain": [
              "               count      mean       std   min  25%   50%     75%   max\n",
              "smoker sex                                                             \n",
              "No     Female   54.0  2.773519  1.128425  1.00  2.0  2.68  3.4375   5.2\n",
              "       Male     97.0  3.113402  1.489559  1.25  2.0  2.74  3.7100   9.0\n",
              "Yes    Female   33.0  2.931515  1.219916  1.00  2.0  2.88  3.5000   6.5\n",
              "       Male     60.0  3.051167  1.500120  1.00  2.0  3.00  3.8200  10.0"
            ]
          },
          "metadata": {
            "tags": []
          },
          "execution_count": 41
        }
      ]
    },
    {
      "cell_type": "markdown",
      "metadata": {
        "id": "0KTeLK50_dbN",
        "colab_type": "text"
      },
      "source": [
        "Male smokers tip the most"
      ]
    },
    {
      "cell_type": "markdown",
      "metadata": {
        "id": "4OS9nCtiBP_0",
        "colab_type": "text"
      },
      "source": [
        "#### Q12: Create a new metric called 'pct_tip' = tip/ total_bill - this would be percent tip give, and should be a better measure of the tipping behaviour."
      ]
    },
    {
      "cell_type": "code",
      "metadata": {
        "id": "srreIgfb_UDx",
        "colab_type": "code",
        "colab": {
          "base_uri": "https://localhost:8080/",
          "height": 204
        },
        "outputId": "8ab307a6-9ac7-49af-ac4b-7fd7680eeda9"
      },
      "source": [
        "tips['pct_tip'] = (tips['tip']/tips['total_bill'])*100\n",
        "tips.head()"
      ],
      "execution_count": 75,
      "outputs": [
        {
          "output_type": "execute_result",
          "data": {
            "text/html": [
              "<div>\n",
              "<style scoped>\n",
              "    .dataframe tbody tr th:only-of-type {\n",
              "        vertical-align: middle;\n",
              "    }\n",
              "\n",
              "    .dataframe tbody tr th {\n",
              "        vertical-align: top;\n",
              "    }\n",
              "\n",
              "    .dataframe thead th {\n",
              "        text-align: right;\n",
              "    }\n",
              "</style>\n",
              "<table border=\"1\" class=\"dataframe\">\n",
              "  <thead>\n",
              "    <tr style=\"text-align: right;\">\n",
              "      <th></th>\n",
              "      <th>total_bill</th>\n",
              "      <th>tip</th>\n",
              "      <th>sex</th>\n",
              "      <th>smoker</th>\n",
              "      <th>day</th>\n",
              "      <th>time</th>\n",
              "      <th>size</th>\n",
              "      <th>pct_tip</th>\n",
              "    </tr>\n",
              "  </thead>\n",
              "  <tbody>\n",
              "    <tr>\n",
              "      <th>0</th>\n",
              "      <td>16.99</td>\n",
              "      <td>1.01</td>\n",
              "      <td>Female</td>\n",
              "      <td>No</td>\n",
              "      <td>Sun</td>\n",
              "      <td>Dinner</td>\n",
              "      <td>2</td>\n",
              "      <td>5.944673</td>\n",
              "    </tr>\n",
              "    <tr>\n",
              "      <th>1</th>\n",
              "      <td>10.34</td>\n",
              "      <td>1.66</td>\n",
              "      <td>Male</td>\n",
              "      <td>No</td>\n",
              "      <td>Sun</td>\n",
              "      <td>Dinner</td>\n",
              "      <td>3</td>\n",
              "      <td>16.054159</td>\n",
              "    </tr>\n",
              "    <tr>\n",
              "      <th>2</th>\n",
              "      <td>21.01</td>\n",
              "      <td>3.50</td>\n",
              "      <td>Male</td>\n",
              "      <td>No</td>\n",
              "      <td>Sun</td>\n",
              "      <td>Dinner</td>\n",
              "      <td>3</td>\n",
              "      <td>16.658734</td>\n",
              "    </tr>\n",
              "    <tr>\n",
              "      <th>3</th>\n",
              "      <td>23.68</td>\n",
              "      <td>3.31</td>\n",
              "      <td>Male</td>\n",
              "      <td>No</td>\n",
              "      <td>Sun</td>\n",
              "      <td>Dinner</td>\n",
              "      <td>2</td>\n",
              "      <td>13.978041</td>\n",
              "    </tr>\n",
              "    <tr>\n",
              "      <th>4</th>\n",
              "      <td>24.59</td>\n",
              "      <td>3.61</td>\n",
              "      <td>Female</td>\n",
              "      <td>No</td>\n",
              "      <td>Sun</td>\n",
              "      <td>Dinner</td>\n",
              "      <td>4</td>\n",
              "      <td>14.680765</td>\n",
              "    </tr>\n",
              "  </tbody>\n",
              "</table>\n",
              "</div>"
            ],
            "text/plain": [
              "   total_bill   tip     sex smoker  day    time  size    pct_tip\n",
              "0       16.99  1.01  Female     No  Sun  Dinner     2   5.944673\n",
              "1       10.34  1.66    Male     No  Sun  Dinner     3  16.054159\n",
              "2       21.01  3.50    Male     No  Sun  Dinner     3  16.658734\n",
              "3       23.68  3.31    Male     No  Sun  Dinner     2  13.978041\n",
              "4       24.59  3.61  Female     No  Sun  Dinner     4  14.680765"
            ]
          },
          "metadata": {
            "tags": []
          },
          "execution_count": 75
        }
      ]
    },
    {
      "cell_type": "markdown",
      "metadata": {
        "id": "71lg-D6sHssh",
        "colab_type": "text"
      },
      "source": [
        "Thus a new column is added called 'pct_tip"
      ]
    },
    {
      "cell_type": "markdown",
      "metadata": {
        "id": "POs81MYBHxkf",
        "colab_type": "text"
      },
      "source": [
        "#### Q13: Does pct_tip differ by gender? Does one gender tip more than the other? "
      ]
    },
    {
      "cell_type": "code",
      "metadata": {
        "id": "65xjt1JqBka7",
        "colab_type": "code",
        "colab": {
          "base_uri": "https://localhost:8080/",
          "height": 142
        },
        "outputId": "9ebe90e6-7ba1-4f7c-ab15-962d8db0279e"
      },
      "source": [
        "tips.groupby(['sex']).describe()['pct_tip']"
      ],
      "execution_count": 73,
      "outputs": [
        {
          "output_type": "execute_result",
          "data": {
            "text/html": [
              "<div>\n",
              "<style scoped>\n",
              "    .dataframe tbody tr th:only-of-type {\n",
              "        vertical-align: middle;\n",
              "    }\n",
              "\n",
              "    .dataframe tbody tr th {\n",
              "        vertical-align: top;\n",
              "    }\n",
              "\n",
              "    .dataframe thead th {\n",
              "        text-align: right;\n",
              "    }\n",
              "</style>\n",
              "<table border=\"1\" class=\"dataframe\">\n",
              "  <thead>\n",
              "    <tr style=\"text-align: right;\">\n",
              "      <th></th>\n",
              "      <th>count</th>\n",
              "      <th>mean</th>\n",
              "      <th>std</th>\n",
              "      <th>min</th>\n",
              "      <th>25%</th>\n",
              "      <th>50%</th>\n",
              "      <th>75%</th>\n",
              "      <th>max</th>\n",
              "    </tr>\n",
              "    <tr>\n",
              "      <th>sex</th>\n",
              "      <th></th>\n",
              "      <th></th>\n",
              "      <th></th>\n",
              "      <th></th>\n",
              "      <th></th>\n",
              "      <th></th>\n",
              "      <th></th>\n",
              "      <th></th>\n",
              "    </tr>\n",
              "  </thead>\n",
              "  <tbody>\n",
              "    <tr>\n",
              "      <th>Female</th>\n",
              "      <td>87.0</td>\n",
              "      <td>16.649074</td>\n",
              "      <td>5.363173</td>\n",
              "      <td>5.643341</td>\n",
              "      <td>14.041645</td>\n",
              "      <td>15.558149</td>\n",
              "      <td>19.426621</td>\n",
              "      <td>41.666667</td>\n",
              "    </tr>\n",
              "    <tr>\n",
              "      <th>Male</th>\n",
              "      <td>157.0</td>\n",
              "      <td>15.765055</td>\n",
              "      <td>6.477787</td>\n",
              "      <td>3.563814</td>\n",
              "      <td>12.138869</td>\n",
              "      <td>15.349194</td>\n",
              "      <td>18.623962</td>\n",
              "      <td>71.034483</td>\n",
              "    </tr>\n",
              "  </tbody>\n",
              "</table>\n",
              "</div>"
            ],
            "text/plain": [
              "        count       mean       std  ...        50%        75%        max\n",
              "sex                                 ...                                 \n",
              "Female   87.0  16.649074  5.363173  ...  15.558149  19.426621  41.666667\n",
              "Male    157.0  15.765055  6.477787  ...  15.349194  18.623962  71.034483\n",
              "\n",
              "[2 rows x 8 columns]"
            ]
          },
          "metadata": {
            "tags": []
          },
          "execution_count": 73
        }
      ]
    },
    {
      "cell_type": "markdown",
      "metadata": {
        "id": "pkVvutgDJiR4",
        "colab_type": "text"
      },
      "source": [
        "Females tip percentage is more than males"
      ]
    },
    {
      "cell_type": "markdown",
      "metadata": {
        "id": "Y_GhEVTEJ2SW",
        "colab_type": "text"
      },
      "source": [
        "#### Q14: Does pct_tip differ by size (number of people at the table)? "
      ]
    },
    {
      "cell_type": "code",
      "metadata": {
        "id": "16vLi3XKIPZL",
        "colab_type": "code",
        "colab": {
          "base_uri": "https://localhost:8080/",
          "height": 204
        },
        "outputId": "eb7e287a-52a7-42c1-feef-68047a225fae"
      },
      "source": [
        "tips.groupby(['day']).describe()['pct_tip']"
      ],
      "execution_count": 76,
      "outputs": [
        {
          "output_type": "execute_result",
          "data": {
            "text/html": [
              "<div>\n",
              "<style scoped>\n",
              "    .dataframe tbody tr th:only-of-type {\n",
              "        vertical-align: middle;\n",
              "    }\n",
              "\n",
              "    .dataframe tbody tr th {\n",
              "        vertical-align: top;\n",
              "    }\n",
              "\n",
              "    .dataframe thead th {\n",
              "        text-align: right;\n",
              "    }\n",
              "</style>\n",
              "<table border=\"1\" class=\"dataframe\">\n",
              "  <thead>\n",
              "    <tr style=\"text-align: right;\">\n",
              "      <th></th>\n",
              "      <th>count</th>\n",
              "      <th>mean</th>\n",
              "      <th>std</th>\n",
              "      <th>min</th>\n",
              "      <th>25%</th>\n",
              "      <th>50%</th>\n",
              "      <th>75%</th>\n",
              "      <th>max</th>\n",
              "    </tr>\n",
              "    <tr>\n",
              "      <th>day</th>\n",
              "      <th></th>\n",
              "      <th></th>\n",
              "      <th></th>\n",
              "      <th></th>\n",
              "      <th></th>\n",
              "      <th></th>\n",
              "      <th></th>\n",
              "      <th></th>\n",
              "    </tr>\n",
              "  </thead>\n",
              "  <tbody>\n",
              "    <tr>\n",
              "      <th>Fri</th>\n",
              "      <td>19.0</td>\n",
              "      <td>16.991303</td>\n",
              "      <td>4.766531</td>\n",
              "      <td>10.355540</td>\n",
              "      <td>13.373871</td>\n",
              "      <td>15.562472</td>\n",
              "      <td>19.663729</td>\n",
              "      <td>26.348039</td>\n",
              "    </tr>\n",
              "    <tr>\n",
              "      <th>Sat</th>\n",
              "      <td>87.0</td>\n",
              "      <td>15.315172</td>\n",
              "      <td>5.129259</td>\n",
              "      <td>3.563814</td>\n",
              "      <td>12.386329</td>\n",
              "      <td>15.183246</td>\n",
              "      <td>18.827082</td>\n",
              "      <td>32.573290</td>\n",
              "    </tr>\n",
              "    <tr>\n",
              "      <th>Sun</th>\n",
              "      <td>76.0</td>\n",
              "      <td>16.689729</td>\n",
              "      <td>8.473889</td>\n",
              "      <td>5.944673</td>\n",
              "      <td>11.998208</td>\n",
              "      <td>16.110332</td>\n",
              "      <td>18.788908</td>\n",
              "      <td>71.034483</td>\n",
              "    </tr>\n",
              "    <tr>\n",
              "      <th>Thur</th>\n",
              "      <td>62.0</td>\n",
              "      <td>16.127563</td>\n",
              "      <td>3.865182</td>\n",
              "      <td>7.296137</td>\n",
              "      <td>13.820958</td>\n",
              "      <td>15.384615</td>\n",
              "      <td>19.268675</td>\n",
              "      <td>26.631158</td>\n",
              "    </tr>\n",
              "  </tbody>\n",
              "</table>\n",
              "</div>"
            ],
            "text/plain": [
              "      count       mean       std  ...        50%        75%        max\n",
              "day                               ...                                 \n",
              "Fri    19.0  16.991303  4.766531  ...  15.562472  19.663729  26.348039\n",
              "Sat    87.0  15.315172  5.129259  ...  15.183246  18.827082  32.573290\n",
              "Sun    76.0  16.689729  8.473889  ...  16.110332  18.788908  71.034483\n",
              "Thur   62.0  16.127563  3.865182  ...  15.384615  19.268675  26.631158\n",
              "\n",
              "[4 rows x 8 columns]"
            ]
          },
          "metadata": {
            "tags": []
          },
          "execution_count": 76
        }
      ]
    },
    {
      "cell_type": "markdown",
      "metadata": {
        "id": "AKiPA4fDKMlM",
        "colab_type": "text"
      },
      "source": [
        "Yes. pct_tip differs by size"
      ]
    },
    {
      "cell_type": "markdown",
      "metadata": {
        "id": "qmx8dYhAKaTP",
        "colab_type": "text"
      },
      "source": [
        "#### Q15: Make the gender vs. smoker view using pct_tip  - does your inference change?"
      ]
    },
    {
      "cell_type": "code",
      "metadata": {
        "id": "IfQrZnQ8KEEG",
        "colab_type": "code",
        "colab": {
          "base_uri": "https://localhost:8080/",
          "height": 204
        },
        "outputId": "6cb0d8d3-3289-4b7d-8cfe-542ff721cb90"
      },
      "source": [
        "tips.groupby(['smoker', 'sex']).describe()['pct_tip']"
      ],
      "execution_count": 77,
      "outputs": [
        {
          "output_type": "execute_result",
          "data": {
            "text/html": [
              "<div>\n",
              "<style scoped>\n",
              "    .dataframe tbody tr th:only-of-type {\n",
              "        vertical-align: middle;\n",
              "    }\n",
              "\n",
              "    .dataframe tbody tr th {\n",
              "        vertical-align: top;\n",
              "    }\n",
              "\n",
              "    .dataframe thead th {\n",
              "        text-align: right;\n",
              "    }\n",
              "</style>\n",
              "<table border=\"1\" class=\"dataframe\">\n",
              "  <thead>\n",
              "    <tr style=\"text-align: right;\">\n",
              "      <th></th>\n",
              "      <th></th>\n",
              "      <th>count</th>\n",
              "      <th>mean</th>\n",
              "      <th>std</th>\n",
              "      <th>min</th>\n",
              "      <th>25%</th>\n",
              "      <th>50%</th>\n",
              "      <th>75%</th>\n",
              "      <th>max</th>\n",
              "    </tr>\n",
              "    <tr>\n",
              "      <th>smoker</th>\n",
              "      <th>sex</th>\n",
              "      <th></th>\n",
              "      <th></th>\n",
              "      <th></th>\n",
              "      <th></th>\n",
              "      <th></th>\n",
              "      <th></th>\n",
              "      <th></th>\n",
              "      <th></th>\n",
              "    </tr>\n",
              "  </thead>\n",
              "  <tbody>\n",
              "    <tr>\n",
              "      <th rowspan=\"2\" valign=\"top\">No</th>\n",
              "      <th>Female</th>\n",
              "      <td>54.0</td>\n",
              "      <td>15.692097</td>\n",
              "      <td>3.642118</td>\n",
              "      <td>5.679667</td>\n",
              "      <td>13.970835</td>\n",
              "      <td>14.969118</td>\n",
              "      <td>18.162966</td>\n",
              "      <td>25.267250</td>\n",
              "    </tr>\n",
              "    <tr>\n",
              "      <th>Male</th>\n",
              "      <td>97.0</td>\n",
              "      <td>16.066872</td>\n",
              "      <td>4.184875</td>\n",
              "      <td>7.180385</td>\n",
              "      <td>13.181019</td>\n",
              "      <td>15.760441</td>\n",
              "      <td>18.621974</td>\n",
              "      <td>29.198966</td>\n",
              "    </tr>\n",
              "    <tr>\n",
              "      <th rowspan=\"2\" valign=\"top\">Yes</th>\n",
              "      <th>Female</th>\n",
              "      <td>33.0</td>\n",
              "      <td>18.215035</td>\n",
              "      <td>7.159451</td>\n",
              "      <td>5.643341</td>\n",
              "      <td>15.243902</td>\n",
              "      <td>17.391304</td>\n",
              "      <td>19.821606</td>\n",
              "      <td>41.666667</td>\n",
              "    </tr>\n",
              "    <tr>\n",
              "      <th>Male</th>\n",
              "      <td>60.0</td>\n",
              "      <td>15.277118</td>\n",
              "      <td>9.058794</td>\n",
              "      <td>3.563814</td>\n",
              "      <td>10.184496</td>\n",
              "      <td>14.101483</td>\n",
              "      <td>19.169707</td>\n",
              "      <td>71.034483</td>\n",
              "    </tr>\n",
              "  </tbody>\n",
              "</table>\n",
              "</div>"
            ],
            "text/plain": [
              "               count       mean       std  ...        50%        75%        max\n",
              "smoker sex                                 ...                                 \n",
              "No     Female   54.0  15.692097  3.642118  ...  14.969118  18.162966  25.267250\n",
              "       Male     97.0  16.066872  4.184875  ...  15.760441  18.621974  29.198966\n",
              "Yes    Female   33.0  18.215035  7.159451  ...  17.391304  19.821606  41.666667\n",
              "       Male     60.0  15.277118  9.058794  ...  14.101483  19.169707  71.034483\n",
              "\n",
              "[4 rows x 8 columns]"
            ]
          },
          "metadata": {
            "tags": []
          },
          "execution_count": 77
        }
      ]
    },
    {
      "cell_type": "markdown",
      "metadata": {
        "id": "vtHIcBbbL6cc",
        "colab_type": "text"
      },
      "source": [
        "Female smokers have higher average of tip percentage"
      ]
    },
    {
      "cell_type": "markdown",
      "metadata": {
        "id": "5n3GbDldMYw5",
        "colab_type": "text"
      },
      "source": [
        "#### Q16: Make a scatter plot of total_bill vs. tip."
      ]
    },
    {
      "cell_type": "code",
      "metadata": {
        "id": "jGbKTO8dKjWy",
        "colab_type": "code",
        "colab": {
          "base_uri": "https://localhost:8080/",
          "height": 295
        },
        "outputId": "4bfddbd0-34cd-43f2-86a0-08de0dee244d"
      },
      "source": [
        "# scatter plot of total_bill vs tip\n",
        "\n",
        "plt.scatter(tips['total_bill'],tips['tip'],c='green')\n",
        "plt.title('Scatter plot of Total bill vs tips')\n",
        "plt.xlabel('Total bill')\n",
        "plt.ylabel('Tips')\n",
        "plt.show()"
      ],
      "execution_count": 79,
      "outputs": [
        {
          "output_type": "display_data",
          "data": {
            "image/png": "[encoded data removed]",
            "text/plain": [
              "<Figure size 432x288 with 1 Axes>"
            ]
          },
          "metadata": {
            "tags": []
          }
        }
      ]
    },
    {
      "cell_type": "markdown",
      "metadata": {
        "id": "nkUlLt9jNIwv",
        "colab_type": "text"
      },
      "source": [
        "#### Q17: Make a scatter plot of total_bill vs. pct_tip."
      ]
    },
    {
      "cell_type": "code",
      "metadata": {
        "id": "FCYuGF2DM8Qk",
        "colab_type": "code",
        "colab": {
          "base_uri": "https://localhost:8080/",
          "height": 295
        },
        "outputId": "fa3a47aa-4c7e-4167-94bd-c13323876234"
      },
      "source": [
        "# scatter plot of total_bill vs pct_tip\n",
        "\n",
        "plt.scatter(tips['total_bill'],tips['pct_tip'],c='green')\n",
        "plt.title('Scatter plot of Total bill vs pct_tip')\n",
        "plt.xlabel('Total bill')\n",
        "plt.ylabel('pct_tip')\n",
        "plt.show()"
      ],
      "execution_count": 80,
      "outputs": [
        {
          "output_type": "display_data",
          "data": {
            "image/png": "[encoded data removed]",
            "text/plain": [
              "<Figure size 432x288 with 1 Axes>"
            ]
          },
          "metadata": {
            "tags": []
          }
        }
      ]
    },
    {
      "cell_type": "code",
      "metadata": {
        "id": "IAcT2fYNNfGr",
        "colab_type": "code",
        "colab": {}
      },
      "source": [
        ""
      ],
      "execution_count": 0,
      "outputs": []
    }
  ]
}