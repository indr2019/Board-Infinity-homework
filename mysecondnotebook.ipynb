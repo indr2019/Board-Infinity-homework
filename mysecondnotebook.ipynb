{
  "nbformat": 4,
  "nbformat_minor": 0,
  "metadata": {
    "colab": {
      "name": "mysecondnotebook.ipynb",
      "provenance": [],
      "collapsed_sections": [],
      "authorship_tag": "ABX9TyM+SF3nGtTPqaBbHyf3Yve6",
      "include_colab_link": true
    },
    "kernelspec": {
      "name": "python3",
      "display_name": "Python 3"
    },
    "accelerator": "GPU"
  },
  "cells": [
    {
      "cell_type": "markdown",
      "metadata": {
        "id": "view-in-github",
        "colab_type": "text"
      },
      "source": [
        "<a href=\"https://colab.research.google.com/github/indr2019/Board-Infinity-homework/blob/master/mysecondnotebook.ipynb\" target=\"_parent\"><img src=\"https://colab.research.google.com/assets/colab-badge.svg\" alt=\"Open In Colab\"/></a>"
      ]
    },
    {
      "cell_type": "markdown",
      "metadata": {
        "id": "6_Hwfu9wCDBm",
        "colab_type": "text"
      },
      "source": [
        "My name is Indranil Laskar <br>\n",
        "I am an electronics engineer <br>\n",
        "I have more 14 years of experience as a quality analyst <br>\n",
        "I live in Navi Mumbai <br>"
      ]
    },
    {
      "cell_type": "markdown",
      "metadata": {
        "id": "40tOE7ZvCDMu",
        "colab_type": "text"
      },
      "source": [
        "I want to be a data scientist since I have a considerable experience as a Quality analyst and have been dealing with plenty of data in my field and hence want to move to field of data scientist"
      ]
    },
    {
      "cell_type": "code",
      "metadata": {
        "id": "u7kLeSn0E8nn",
        "colab_type": "code",
        "colab": {}
      },
      "source": [
        "firstname = 'Indranil'\n",
        "lastname = 'laskar'\n",
        "cityname = 'Navi Mumbai'"
      ],
      "execution_count": 0,
      "outputs": []
    },
    {
      "cell_type": "code",
      "metadata": {
        "id": "jZVAYd1TFoxe",
        "colab_type": "code",
        "colab": {}
      },
      "source": [
        "age = 35\n",
        "height = 171"
      ],
      "execution_count": 0,
      "outputs": []
    },
    {
      "cell_type": "code",
      "metadata": {
        "id": "S4ttDPq4Fwdd",
        "colab_type": "code",
        "colab": {}
      },
      "source": [
        "tenth = 67.00\n",
        "diploma = 75.00"
      ],
      "execution_count": 0,
      "outputs": []
    },
    {
      "cell_type": "code",
      "metadata": {
        "id": "Duyn5Zy2Gn1e",
        "colab_type": "code",
        "colab": {}
      },
      "source": [
        "favourite_numbers = [4,10, 3.5, 2, 4.5]"
      ],
      "execution_count": 0,
      "outputs": []
    },
    {
      "cell_type": "code",
      "metadata": {
        "id": "nEMsGK1hHJZV",
        "colab_type": "code",
        "colab": {}
      },
      "source": [
        "my_friends = ['rohan', 'rohit', 'yash', 'dheeraj', 'smita']"
      ],
      "execution_count": 0,
      "outputs": []
    },
    {
      "cell_type": "code",
      "metadata": {
        "id": "IOh9b74nHh12",
        "colab_type": "code",
        "colab": {
          "base_uri": "https://localhost:8080/",
          "height": 34
        },
        "outputId": "fdd91b3d-919c-494c-b7fe-9c7279ffee50"
      },
      "source": [
        "my_friends[0]"
      ],
      "execution_count": 9,
      "outputs": [
        {
          "output_type": "execute_result",
          "data": {
            "text/plain": [
              "'rohan'"
            ]
          },
          "metadata": {
            "tags": []
          },
          "execution_count": 9
        }
      ]
    },
    {
      "cell_type": "code",
      "metadata": {
        "id": "hTAwsBspHsse",
        "colab_type": "code",
        "colab": {
          "base_uri": "https://localhost:8080/",
          "height": 34
        },
        "outputId": "32617b65-02e7-42b5-e133-6787f5ad02e0"
      },
      "source": [
        "favourite_numbers[0]"
      ],
      "execution_count": 10,
      "outputs": [
        {
          "output_type": "execute_result",
          "data": {
            "text/plain": [
              "4"
            ]
          },
          "metadata": {
            "tags": []
          },
          "execution_count": 10
        }
      ]
    },
    {
      "cell_type": "code",
      "metadata": {
        "id": "EKqJArZrH6-v",
        "colab_type": "code",
        "colab": {}
      },
      "source": [
        "myself = {'favorite color' : 'blue',\n",
        "          'age' : 35,\n",
        "          'gender' : 'male',\n",
        "          'name': 'Indranil',\n",
        "          'favorite song' : 'theher ja'}"
      ],
      "execution_count": 0,
      "outputs": []
    },
    {
      "cell_type": "code",
      "metadata": {
        "id": "b3n1JWSlJLE-",
        "colab_type": "code",
        "colab": {
          "base_uri": "https://localhost:8080/",
          "height": 34
        },
        "outputId": "6df3273d-fd71-48e5-9b57-0e8397a8a4cb"
      },
      "source": [
        "myself['name'], myself['gender']"
      ],
      "execution_count": 21,
      "outputs": [
        {
          "output_type": "execute_result",
          "data": {
            "text/plain": [
              "('Indranil', 'male')"
            ]
          },
          "metadata": {
            "tags": []
          },
          "execution_count": 21
        }
      ]
    },
    {
      "cell_type": "code",
      "metadata": {
        "id": "JmKZX0wEJjW2",
        "colab_type": "code",
        "colab": {
          "base_uri": "https://localhost:8080/",
          "height": 119
        },
        "outputId": "0bbc7b94-0088-4370-9b0b-c2e60ebc8781"
      },
      "source": [
        "myself['vegetarian'] = False\n",
        "myself"
      ],
      "execution_count": 22,
      "outputs": [
        {
          "output_type": "execute_result",
          "data": {
            "text/plain": [
              "{'age': 35,\n",
              " 'favorite color': 'blue',\n",
              " 'favorite song': 'theher ja',\n",
              " 'gender': 'male',\n",
              " 'name': 'Indranil',\n",
              " 'vegetarian': False}"
            ]
          },
          "metadata": {
            "tags": []
          },
          "execution_count": 22
        }
      ]
    },
    {
      "cell_type": "code",
      "metadata": {
        "id": "BHsHGc2CLCgn",
        "colab_type": "code",
        "colab": {}
      },
      "source": [
        ""
      ],
      "execution_count": 0,
      "outputs": []
    }
  ]
}