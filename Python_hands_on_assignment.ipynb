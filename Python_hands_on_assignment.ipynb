{
  "nbformat": 4,
  "nbformat_minor": 0,
  "metadata": {
    "colab": {
      "name": "Python hands on assignment.ipynb",
      "provenance": [],
      "collapsed_sections": [],
      "authorship_tag": "ABX9TyP+Z4dTU8DvTjihmUyQWqVB",
      "include_colab_link": true
    },
    "kernelspec": {
      "name": "python3",
      "display_name": "Python 3"
    }
  },
  "cells": [
    {
      "cell_type": "markdown",
      "metadata": {
        "id": "view-in-github",
        "colab_type": "text"
      },
      "source": [
        "<a href=\"https://colab.research.google.com/github/indr2019/Board-Infinity-homework/blob/master/Python_hands_on_assignment.ipynb\" target=\"_parent\"><img src=\"https://colab.research.google.com/assets/colab-badge.svg\" alt=\"Open In Colab\"/></a>"
      ]
    },
    {
      "cell_type": "markdown",
      "metadata": {
        "id": "0IKdto8AN1-y",
        "colab_type": "text"
      },
      "source": [
        "#### 1. Write a Python program which accepts the radius of a circle from the user and compute the area ####"
      ]
    },
    {
      "cell_type": "code",
      "metadata": {
        "id": "5EMhI-vRN1Ih",
        "colab_type": "code",
        "colab": {}
      },
      "source": [
        "import math\n",
        "rad = float(input(\"Enter the radius to find out the area: \"))\n",
        "area = math.pi*(rad**2)\n",
        "print('Area of circle with radius', rad, 'is:', area)"
      ],
      "execution_count": 0,
      "outputs": []
    },
    {
      "cell_type": "markdown",
      "metadata": {
        "id": "mZkn_bECQ-fb",
        "colab_type": "text"
      },
      "source": [
        "#### 2. Write a Python program which accepts the user's first and last name and print them in reverse order with a space between them. ####"
      ]
    },
    {
      "cell_type": "code",
      "metadata": {
        "id": "Of2DbtdrPff3",
        "colab_type": "code",
        "colab": {}
      },
      "source": [
        "frst_name = input('Enter the first name: ')\n",
        "lst_name = input('Enter the last name: ')\n",
        "full_name = frst_name + \" \" + lst_name\n",
        "print('The full name entered is: ', full_name)\n",
        "print(\"The reverse order of the name is: \", full_name[::-1])"
      ],
      "execution_count": 0,
      "outputs": []
    },
    {
      "cell_type": "markdown",
      "metadata": {
        "id": "3UG8MyQOVO67",
        "colab_type": "text"
      },
      "source": [
        "#### 3. Write a Python program which checks if the input number is divisible by 3 or not. ####"
      ]
    },
    {
      "cell_type": "code",
      "metadata": {
        "id": "4xxP4-_CRWdw",
        "colab_type": "code",
        "colab": {}
      },
      "source": [
        "num = int(input('Enter a number to check divisibility by 3: '))\n",
        "if num%3 == 0:\n",
        "  print('Number entered is dvisible by 3')\n",
        "else:\n",
        "  print(\"The number entered is not divisible by 3\")"
      ],
      "execution_count": 0,
      "outputs": []
    },
    {
      "cell_type": "markdown",
      "metadata": {
        "id": "G8lNeh8DYR9o",
        "colab_type": "text"
      },
      "source": [
        "#### 4. Write a Python program to implement 5 functions of the math module (other than what was taught in the session). ####\n",
        "#### (sinc, cos, tan, sqrt, ceil, floor, exp, log, pow was covered in the online session) ####"
      ]
    },
    {
      "cell_type": "code",
      "metadata": {
        "id": "rgEx7p5aVwc4",
        "colab_type": "code",
        "colab": {}
      },
      "source": [
        "import math\n",
        "print(math.pi)\n",
        "print(math.factorial(5))\n",
        "print(math.gcd(10,8))\n",
        "print(math.modf(5))\n",
        "print(math.acosh(90))"
      ],
      "execution_count": 0,
      "outputs": []
    },
    {
      "cell_type": "markdown",
      "metadata": {
        "id": "ULNzSqYmSt_b",
        "colab_type": "text"
      },
      "source": [
        "#### 5. Write a program to do a sum of squares. ####"
      ]
    },
    {
      "cell_type": "code",
      "metadata": {
        "id": "H0IhILeidQh9",
        "colab_type": "code",
        "colab": {}
      },
      "source": [
        "num = int(input('Enter a number to find sum of squares : '))\n",
        "sqr = 0\n",
        "\n",
        "for i in range(1, num + 1):\n",
        "    \n",
        "  #squaring each number in i and adding the sum of squares\n",
        "  sqr = sqr + (i**2) \n",
        "  \n",
        "print('The sum of squares for', num, 'is :', sqr) "
      ],
      "execution_count": 0,
      "outputs": []
    },
    {
      "cell_type": "markdown",
      "metadata": {
        "id": "2JvNmcrrYB9C",
        "colab_type": "text"
      },
      "source": [
        "#### 6. Write a void function that receives a 4 digit number and calculates the sum of squares of first 2 digits number and last two-digit number (Hint:- if 1233 is passed as an argument then the function should calculate 12pow2+33pow2) ####"
      ]
    },
    {
      "cell_type": "code",
      "metadata": {
        "id": "IJZtvgQBYAXB",
        "colab_type": "code",
        "colab": {}
      },
      "source": [
        "def sqr(num):\n",
        "\n",
        "  # converting the integer into list of individual elements\n",
        "  lst = [int(x) for x in str(num)]\n",
        "\n",
        "  # slicing the four digit number into two parts and storing in variables j & k\n",
        "  j = lst[:2]\n",
        "  k = lst[-2:]\n",
        "\n",
        "  # converting the individual elements in variable back into pair of single integer\n",
        "  lst1 = [str(x) for x in j]\n",
        "  lst2 = [str(x) for x in k]\n",
        "\n",
        "  # squaring the integers and adding them\n",
        "  res1 = int(\"\".join(lst1))**2\n",
        "  res2 = int(\"\".join(lst2))**2\n",
        "  res = res1 + res2           \n",
        "  print(\"The result is:\", res)\n",
        "\n",
        "num = int(input('Enter a four digit number : '))\n",
        "sqr(num)"
      ],
      "execution_count": 0,
      "outputs": []
    },
    {
      "cell_type": "markdown",
      "metadata": {
        "id": "K8oo217kAbD6",
        "colab_type": "text"
      },
      "source": [
        "#### 7. Write a function that takes one argument (a +ve int) and report if the argument is prime or not.Write a program that invokes this function. ####"
      ]
    },
    {
      "cell_type": "code",
      "metadata": {
        "id": "QMgEZ1By-nrv",
        "colab_type": "code",
        "colab": {}
      },
      "source": [
        "def prime(num):\n",
        "  \n",
        "  # check if input number is greater then 1\n",
        "  if num > 1:\n",
        "    \n",
        "    # check divisibility for all 'i' less than the number\n",
        "    for i in range(2,num):\n",
        "      \n",
        "      if (num % i) == 0:\n",
        "        print(\"The number\", num, 'is not a prime number')\n",
        "        break\n",
        "    else:\n",
        "      print(\"The number\", num, \"is a prime number \")\n",
        "  \n",
        "  # if input number is less than 1\n",
        "  else:\n",
        "    print(\"The number should be more than 1\")\n",
        "    print(\"Please try again\")\n",
        "    num = int(input('Enter a number to check if it is prime number : '))\n",
        "    prime(num)\n",
        "\n",
        "num = int(input('Enter a number to check if it is prime number : '))\n",
        "prime(num)\n"
      ],
      "execution_count": 0,
      "outputs": []
    },
    {
      "cell_type": "markdown",
      "metadata": {
        "id": "kZHtX2PhWrdh",
        "colab_type": "text"
      },
      "source": [
        "#### 8. Write a program that takes a character (i.e a string of length 1) and returns TRUE if it is a vowel, FALSE otherwise. ####"
      ]
    },
    {
      "cell_type": "code",
      "metadata": {
        "id": "UJwCtIYxDI0K",
        "colab_type": "code",
        "colab": {}
      },
      "source": [
        "vow = input('Enter a character to check if it is a vowel: ')\n",
        "\n",
        "# convert char to lower case if entered in upper case\n",
        "char = vow.lower()\n",
        "\n",
        "# compare the character entered with the vowels\n",
        "# True means vowel & False means not a vowel\n",
        "char=='a' or char=='e' or char=='i' or char=='o' or char=='u'"
      ],
      "execution_count": 0,
      "outputs": []
    },
    {
      "cell_type": "markdown",
      "metadata": {
        "id": "HJeEHNICaf5I",
        "colab_type": "text"
      },
      "source": [
        "#### 9. Write a program to get the last digit cube. ####"
      ]
    },
    {
      "cell_type": "code",
      "metadata": {
        "id": "mN1cMSWfa7hd",
        "colab_type": "code",
        "colab": {}
      },
      "source": [
        "import math\n",
        "num = int(input(\"Enter a number to find last digit cube: \"))\n",
        "lst = [int(i) for i in str(num)]\n",
        "cube = math.pow(lst[-1],3)\n",
        "print(\"Cube of the last digit\", lst[-1], 'is:', int(cube))"
      ],
      "execution_count": 0,
      "outputs": []
    },
    {
      "cell_type": "markdown",
      "metadata": {
        "id": "14iH6NUtjpS4",
        "colab_type": "text"
      },
      "source": [
        "#### 10. Write a Python program that takes a list and returns a new list with unique elements of the first list. ####"
      ]
    },
    {
      "cell_type": "code",
      "metadata": {
        "id": "Y4z8hpUTjbXX",
        "colab_type": "code",
        "colab": {}
      },
      "source": [
        "lst = [5,8,8,9,9,2,3,1,5,6,6,4,4,7]\n",
        "unique = []\n",
        "\n",
        "# checking for unique elements in the list\n",
        "for i in lst:\n",
        "  if i not in unique:\n",
        "    unique.append(i)\n",
        "print(unique)"
      ],
      "execution_count": 0,
      "outputs": []
    }
  ]
}