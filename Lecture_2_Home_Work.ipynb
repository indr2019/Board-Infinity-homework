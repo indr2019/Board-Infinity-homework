{
  "nbformat": 4,
  "nbformat_minor": 0,
  "metadata": {
    "colab": {
      "name": "Lecture 2 Home Work.ipynb",
      "provenance": [],
      "collapsed_sections": [],
      "authorship_tag": "ABX9TyMp0ysQRlLAZ7/6JcEJgb1H",
      "include_colab_link": true
    },
    "kernelspec": {
      "name": "python3",
      "display_name": "Python 3"
    }
  },
  "cells": [
    {
      "cell_type": "markdown",
      "metadata": {
        "id": "view-in-github",
        "colab_type": "text"
      },
      "source": [
        "<a href=\"https://colab.research.google.com/github/indr2019/Board-Infinity-homework/blob/master/Lecture_2_Home_Work.ipynb\" target=\"_parent\"><img src=\"https://colab.research.google.com/assets/colab-badge.svg\" alt=\"Open In Colab\"/></a>"
      ]
    },
    {
      "cell_type": "markdown",
      "metadata": {
        "id": "dPI47dwAahXU",
        "colab_type": "text"
      },
      "source": [
        "### **TASK 1** 'if/else statement'"
      ]
    },
    {
      "cell_type": "code",
      "metadata": {
        "id": "fCZOdfyQXWNb",
        "colab_type": "code",
        "outputId": "4a6da99d-1899-4be2-e4a6-5ece49daa0c9",
        "colab": {
          "base_uri": "https://localhost:8080/",
          "height": 51
        }
      },
      "source": [
        "age = int(input('Enter your age: '))\n",
        "\n",
        "if age >= 18:\n",
        "  print('Adult')\n",
        "\n",
        "else:\n",
        "  print('Teenager')"
      ],
      "execution_count": 0,
      "outputs": [
        {
          "output_type": "stream",
          "text": [
            "Enter your age: 16\n",
            "Teenager\n"
          ],
          "name": "stdout"
        }
      ]
    },
    {
      "cell_type": "code",
      "metadata": {
        "id": "T4wO_HLGYGza",
        "colab_type": "code",
        "outputId": "28597617-431c-446b-b718-7a00e129f7e4",
        "colab": {
          "base_uri": "https://localhost:8080/",
          "height": 51
        }
      },
      "source": [
        "sal = int(input('Enter your salary: '))\n",
        "\n",
        "if sal > 100000:\n",
        "  ongoing_loan = str(input('Do you have an ongoing loan?: '))\n",
        "  if ongoing_loan == 'Yes':\n",
        "    print('Im sorry your loan is rejected')\n",
        "  else:\n",
        "    print(\"Congrats!Loan approved\")\n",
        "else:\n",
        "  print('Sorry your loan is rejected')"
      ],
      "execution_count": 0,
      "outputs": [
        {
          "output_type": "stream",
          "text": [
            "Enter your salary: 55000\n",
            "Sorry your loan is rejected\n"
          ],
          "name": "stdout"
        }
      ]
    },
    {
      "cell_type": "code",
      "metadata": {
        "id": "oR5knfS3ZYIi",
        "colab_type": "code",
        "outputId": "80dc609e-b6c1-4028-f900-62df32ee790c",
        "colab": {
          "base_uri": "https://localhost:8080/",
          "height": 51
        }
      },
      "source": [
        "gender = str(input('Are you a female?: '))\n",
        "\n",
        "if gender == 'Yes':\n",
        "  print('You are a Girl')\n",
        "else:\n",
        "  print('You are a boy')"
      ],
      "execution_count": 0,
      "outputs": [
        {
          "output_type": "stream",
          "text": [
            "Are you a female?: Yes\n",
            "You are a Girl\n"
          ],
          "name": "stdout"
        }
      ]
    },
    {
      "cell_type": "markdown",
      "metadata": {
        "id": "OW1b_CNHa5Cy",
        "colab_type": "text"
      },
      "source": [
        "### **TASK 2** 'Loops'"
      ]
    },
    {
      "cell_type": "code",
      "metadata": {
        "id": "G1CTEtvmaNMb",
        "colab_type": "code",
        "outputId": "92936f2f-458f-4448-e412-506a7743828c",
        "colab": {
          "base_uri": "https://localhost:8080/",
          "height": 221
        }
      },
      "source": [
        "rand_num = [6,8,5,40,89,10,11,15,26,83,12,96]\n",
        "\n",
        "# printing numbers in the list\n",
        "for i in (rand_num):\n",
        "  print(i)"
      ],
      "execution_count": 0,
      "outputs": [
        {
          "output_type": "stream",
          "text": [
            "6\n",
            "8\n",
            "5\n",
            "40\n",
            "89\n",
            "10\n",
            "11\n",
            "15\n",
            "26\n",
            "83\n",
            "12\n",
            "96\n"
          ],
          "name": "stdout"
        }
      ]
    },
    {
      "cell_type": "code",
      "metadata": {
        "id": "MuXmFhcabub6",
        "colab_type": "code",
        "outputId": "0919d09f-051b-41f2-e7bf-03b3ec72278a",
        "colab": {
          "base_uri": "https://localhost:8080/",
          "height": 136
        }
      },
      "source": [
        "# printing only the even numbers\n",
        "for i in (rand_num):\n",
        "  if i%2==0:\n",
        "    print(i)"
      ],
      "execution_count": 0,
      "outputs": [
        {
          "output_type": "stream",
          "text": [
            "6\n",
            "8\n",
            "40\n",
            "10\n",
            "26\n",
            "12\n",
            "96\n"
          ],
          "name": "stdout"
        }
      ]
    },
    {
      "cell_type": "code",
      "metadata": {
        "id": "Rtnz3Io8cizq",
        "colab_type": "code",
        "outputId": "a48f652b-641a-473c-b22b-9d8f2127208a",
        "colab": {
          "base_uri": "https://localhost:8080/",
          "height": 187
        }
      },
      "source": [
        "# creating a dictionary 'myself'\n",
        "\n",
        "myself = {'name': 'abcde',\n",
        "          'age': 32,\n",
        "          'gender': 'Male',\n",
        "          'favorite food': 'barbeque'}\n",
        "\n",
        "# using 'for' loop to print only keys\n",
        "for vals in myself.keys():\n",
        "  print(vals)\n",
        "  \n",
        "print('\\n')\n",
        "\n",
        "# using 'for' loop to print only the keys\n",
        "for vals in myself.values():\n",
        "  print(vals)\n"
      ],
      "execution_count": 0,
      "outputs": [
        {
          "output_type": "stream",
          "text": [
            "name\n",
            "age\n",
            "gender\n",
            "favorite food\n",
            "\n",
            "\n",
            "abcde\n",
            "32\n",
            "Male\n",
            "barbeque\n"
          ],
          "name": "stdout"
        }
      ]
    },
    {
      "cell_type": "markdown",
      "metadata": {
        "id": "TiM6EBXwhlW-",
        "colab_type": "text"
      },
      "source": [
        "### **TASK 3** 'Methods| Functions'"
      ]
    },
    {
      "cell_type": "code",
      "metadata": {
        "id": "YqSvYdc-g5T9",
        "colab_type": "code",
        "outputId": "ee276eab-eb78-4d0a-989c-0548fb25ac72",
        "colab": {
          "base_uri": "https://localhost:8080/",
          "height": 34
        }
      },
      "source": [
        "# taking a name as argument and returing the same\n",
        "def name(name):\n",
        "  return name\n",
        "\n",
        "name('Indranil')"
      ],
      "execution_count": 0,
      "outputs": [
        {
          "output_type": "execute_result",
          "data": {
            "text/plain": [
              "'Indranil'"
            ]
          },
          "metadata": {
            "tags": []
          },
          "execution_count": 41
        }
      ]
    },
    {
      "cell_type": "code",
      "metadata": {
        "id": "zee6webXiyM6",
        "colab_type": "code",
        "outputId": "573cbe8f-db6e-40fb-b205-c628f9a133dd",
        "colab": {
          "base_uri": "https://localhost:8080/",
          "height": 34
        }
      },
      "source": [
        "# function to print only keys of a dictionary\n",
        "student = {'name': 'sumit',\n",
        "           'age': 27,\n",
        "           'gender': 'male',\n",
        "           'height': 157,\n",
        "           'weight': 64}\n",
        "\n",
        "def stud_dict(stud):\n",
        "  return stud.keys()\n",
        "\n",
        "stud_dict(student)\n"
      ],
      "execution_count": 0,
      "outputs": [
        {
          "output_type": "execute_result",
          "data": {
            "text/plain": [
              "dict_keys(['name', 'age', 'gender', 'height', 'weight'])"
            ]
          },
          "metadata": {
            "tags": []
          },
          "execution_count": 43
        }
      ]
    },
    {
      "cell_type": "code",
      "metadata": {
        "id": "R-_-n-nqkcqT",
        "colab_type": "code",
        "outputId": "e5a7ca58-16ad-4056-c166-5dc9de5cd0f2",
        "colab": {
          "base_uri": "https://localhost:8080/",
          "height": 102
        }
      },
      "source": [
        "# function to print only odd numbers from a list\n",
        "\n",
        "nums = [1,2,3,4,5,6,7,8,9,10]\n",
        "\n",
        "def odd_nums(nums):\n",
        "  for i in nums:\n",
        "    if i%2 != 0:\n",
        "      print(i)\n",
        "\n",
        "odd_nums(nums)"
      ],
      "execution_count": 0,
      "outputs": [
        {
          "output_type": "stream",
          "text": [
            "1\n",
            "3\n",
            "5\n",
            "7\n",
            "9\n"
          ],
          "name": "stdout"
        }
      ]
    },
    {
      "cell_type": "markdown",
      "metadata": {
        "id": "We2KpfDnrOwH",
        "colab_type": "text"
      },
      "source": [
        "### **TASK 4** 'Type conversion'"
      ]
    },
    {
      "cell_type": "code",
      "metadata": {
        "id": "ySGIDxr9qtU9",
        "colab_type": "code",
        "colab": {}
      },
      "source": [
        "# declaring four variables\n",
        "\n",
        "name = 'abcde'\n",
        "age = 27\n",
        "height = '6.2'\n",
        "male = True"
      ],
      "execution_count": 0,
      "outputs": []
    },
    {
      "cell_type": "code",
      "metadata": {
        "id": "nAr-wMhmsJjT",
        "colab_type": "code",
        "outputId": "ca24a415-69d9-49c7-8fcb-be3296bdcffd",
        "colab": {
          "base_uri": "https://localhost:8080/",
          "height": 51
        }
      },
      "source": [
        "# 1. integer to float\n",
        "print(float(age))\n",
        "type(float(age))"
      ],
      "execution_count": 0,
      "outputs": [
        {
          "output_type": "stream",
          "text": [
            "27.0\n"
          ],
          "name": "stdout"
        },
        {
          "output_type": "execute_result",
          "data": {
            "text/plain": [
              "float"
            ]
          },
          "metadata": {
            "tags": []
          },
          "execution_count": 62
        }
      ]
    },
    {
      "cell_type": "code",
      "metadata": {
        "id": "JYdctVTXsVWa",
        "colab_type": "code",
        "outputId": "86e6e9c4-bd12-49cb-a86a-d0b4f541c179",
        "colab": {
          "base_uri": "https://localhost:8080/",
          "height": 51
        }
      },
      "source": [
        "# 2. string to integer\n",
        "print(int(height))\n",
        "type(int(height))"
      ],
      "execution_count": 0,
      "outputs": [
        {
          "output_type": "stream",
          "text": [
            "6\n"
          ],
          "name": "stdout"
        },
        {
          "output_type": "execute_result",
          "data": {
            "text/plain": [
              "int"
            ]
          },
          "metadata": {
            "tags": []
          },
          "execution_count": 63
        }
      ]
    },
    {
      "cell_type": "code",
      "metadata": {
        "id": "xGp8qQk5smYC",
        "colab_type": "code",
        "outputId": "a60770ba-fe80-402b-9016-1dc65aebd112",
        "colab": {
          "base_uri": "https://localhost:8080/",
          "height": 34
        }
      },
      "source": [
        "# 3. integer to string\n",
        "str(age)\n"
      ],
      "execution_count": 0,
      "outputs": [
        {
          "output_type": "execute_result",
          "data": {
            "text/plain": [
              "'27'"
            ]
          },
          "metadata": {
            "tags": []
          },
          "execution_count": 68
        }
      ]
    },
    {
      "cell_type": "code",
      "metadata": {
        "id": "UKEkxG3tuSiw",
        "colab_type": "code",
        "outputId": "4852be8c-5d74-4ddc-cf63-0abf015f2982",
        "colab": {
          "base_uri": "https://localhost:8080/",
          "height": 34
        }
      },
      "source": [
        "type(str(age))"
      ],
      "execution_count": 0,
      "outputs": [
        {
          "output_type": "execute_result",
          "data": {
            "text/plain": [
              "str"
            ]
          },
          "metadata": {
            "tags": []
          },
          "execution_count": 69
        }
      ]
    },
    {
      "cell_type": "code",
      "metadata": {
        "id": "qqsmo4w5sy6T",
        "colab_type": "code",
        "outputId": "1b1cc2d1-a3d7-41a0-cee6-e1ed5210f15e",
        "colab": {
          "base_uri": "https://localhost:8080/",
          "height": 34
        }
      },
      "source": [
        "# boolean to string\n",
        "str(male)"
      ],
      "execution_count": 0,
      "outputs": [
        {
          "output_type": "execute_result",
          "data": {
            "text/plain": [
              "'True'"
            ]
          },
          "metadata": {
            "tags": []
          },
          "execution_count": 71
        }
      ]
    },
    {
      "cell_type": "code",
      "metadata": {
        "id": "fP4r0rsVttCL",
        "colab_type": "code",
        "outputId": "5bfdf426-7e8d-4cc1-807d-c5c3685a9876",
        "colab": {
          "base_uri": "https://localhost:8080/",
          "height": 34
        }
      },
      "source": [
        "type(str(male))"
      ],
      "execution_count": 0,
      "outputs": [
        {
          "output_type": "execute_result",
          "data": {
            "text/plain": [
              "str"
            ]
          },
          "metadata": {
            "tags": []
          },
          "execution_count": 70
        }
      ]
    },
    {
      "cell_type": "markdown",
      "metadata": {
        "id": "jTR2Zj-GvBbV",
        "colab_type": "text"
      },
      "source": [
        "### **TASK 5** 'Class Inheritance'"
      ]
    },
    {
      "cell_type": "code",
      "metadata": {
        "id": "Ga11y4Up4NZx",
        "colab_type": "code",
        "colab": {}
      },
      "source": [
        "from sklearn.ensemble import RandomForestClassifier\n",
        "from sklearn.naive_bayes import GaussianNB\n",
        "from sklearn.tree import DecisionTreeClassifier\n",
        "from sklearn.linear_model import LinearRegression\n",
        "from sklearn.cluster import KMeans\n",
        "from sklearn.model_selection import train_test_split\n",
        "from sklearn.metrics import classification_report\n",
        "from sklearn.metrics import accuracy_score"
      ],
      "execution_count": 0,
      "outputs": []
    },
    {
      "cell_type": "code",
      "metadata": {
        "id": "tKg7_m8u40AO",
        "colab_type": "code",
        "colab": {}
      },
      "source": [
        ""
      ],
      "execution_count": 0,
      "outputs": []
    }
  ]
}