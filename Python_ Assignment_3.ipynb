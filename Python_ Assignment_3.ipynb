{
 "cells": [
  {
   "cell_type": "markdown",
   "metadata": {},
   "source": [
    "## Problem Statement\n",
    "\n",
    "- DESCRIPTION : A university wants to categorize the marks scored by the students of each batch in the quizzes conducted."
   ]
  },
  {
   "cell_type": "code",
   "execution_count": 1,
   "metadata": {},
   "outputs": [],
   "source": [
    "# importing the libraries\n",
    "\n",
    "import numpy as np\n",
    "import pandas as pd\n",
    "import glob, os"
   ]
  },
  {
   "cell_type": "code",
   "execution_count": 2,
   "metadata": {},
   "outputs": [
    {
     "data": {
      "text/html": [
       "<div>\n",
       "<style scoped>\n",
       "    .dataframe tbody tr th:only-of-type {\n",
       "        vertical-align: middle;\n",
       "    }\n",
       "\n",
       "    .dataframe tbody tr th {\n",
       "        vertical-align: top;\n",
       "    }\n",
       "\n",
       "    .dataframe thead th {\n",
       "        text-align: right;\n",
       "    }\n",
       "</style>\n",
       "<table border=\"1\" class=\"dataframe\">\n",
       "  <thead>\n",
       "    <tr style=\"text-align: right;\">\n",
       "      <th></th>\n",
       "      <th>enrollmentnumber</th>\n",
       "      <th>admn</th>\n",
       "      <th>studentname</th>\n",
       "      <th>studentEmail</th>\n",
       "    </tr>\n",
       "  </thead>\n",
       "  <tbody>\n",
       "    <tr>\n",
       "      <td>0</td>\n",
       "      <td>1613101016</td>\n",
       "      <td>16SCSE101757</td>\n",
       "      <td>AAYUSH  TYAGI</td>\n",
       "      <td>NaN</td>\n",
       "    </tr>\n",
       "    <tr>\n",
       "      <td>1</td>\n",
       "      <td>1613101026</td>\n",
       "      <td>16SCSE101415</td>\n",
       "      <td>ABHISHEK</td>\n",
       "      <td>NaN</td>\n",
       "    </tr>\n",
       "    <tr>\n",
       "      <td>2</td>\n",
       "      <td>1613101051</td>\n",
       "      <td>16SCSE101222</td>\n",
       "      <td>ADITI  SINGH</td>\n",
       "      <td>NaN</td>\n",
       "    </tr>\n",
       "    <tr>\n",
       "      <td>3</td>\n",
       "      <td>1613101054</td>\n",
       "      <td>16SCSE101220</td>\n",
       "      <td>ADITYA  MANKAR</td>\n",
       "      <td>NaN</td>\n",
       "    </tr>\n",
       "    <tr>\n",
       "      <td>4</td>\n",
       "      <td>1613101079</td>\n",
       "      <td>16SCSE101085</td>\n",
       "      <td>AKASH  KANSAL</td>\n",
       "      <td>NaN</td>\n",
       "    </tr>\n",
       "  </tbody>\n",
       "</table>\n",
       "</div>"
      ],
      "text/plain": [
       "   enrollmentnumber          admn     studentname  studentEmail\n",
       "0        1613101016  16SCSE101757   AAYUSH  TYAGI           NaN\n",
       "1        1613101026  16SCSE101415        ABHISHEK           NaN\n",
       "2        1613101051  16SCSE101222    ADITI  SINGH           NaN\n",
       "3        1613101054  16SCSE101220  ADITYA  MANKAR           NaN\n",
       "4        1613101079  16SCSE101085   AKASH  KANSAL           NaN"
      ]
     },
     "execution_count": 2,
     "metadata": {},
     "output_type": "execute_result"
    }
   ],
   "source": [
    "# importing and reading 'studentlist.csv'\n",
    "\n",
    "data = pd.read_csv('studentlist.csv')\n",
    "data.head()"
   ]
  },
  {
   "cell_type": "code",
   "execution_count": 3,
   "metadata": {},
   "outputs": [
    {
     "name": "stdout",
     "output_type": "stream",
     "text": [
      "<class 'pandas.core.frame.DataFrame'>\n",
      "RangeIndex: 1017 entries, 0 to 1016\n",
      "Data columns (total 4 columns):\n",
      "enrollmentnumber    1017 non-null int64\n",
      "admn                1017 non-null object\n",
      "studentname         1017 non-null object\n",
      "studentEmail        0 non-null float64\n",
      "dtypes: float64(1), int64(1), object(2)\n",
      "memory usage: 31.9+ KB\n"
     ]
    }
   ],
   "source": [
    "data.info()"
   ]
  },
  {
   "cell_type": "markdown",
   "metadata": {},
   "source": [
    "**There are 1017 rows and 3 columns in the dataframe 'data'. Column 'studentEmail' doesn't have any value present in the column**"
   ]
  },
  {
   "cell_type": "code",
   "execution_count": 4,
   "metadata": {},
   "outputs": [
    {
     "name": "stdout",
     "output_type": "stream",
     "text": [
      "<class 'pandas.core.frame.DataFrame'>\n",
      "RangeIndex: 1017 entries, 0 to 1016\n",
      "Data columns (total 3 columns):\n",
      "enrollmentnumber    1017 non-null int64\n",
      "admn                1017 non-null object\n",
      "studentname         1017 non-null object\n",
      "dtypes: int64(1), object(2)\n",
      "memory usage: 24.0+ KB\n"
     ]
    }
   ],
   "source": [
    "# dropping 'studentEmail' column since it doesn't have any values\n",
    "\n",
    "data = data.drop(columns=['studentEmail'])\n",
    "data.info()"
   ]
  },
  {
   "cell_type": "code",
   "execution_count": 5,
   "metadata": {},
   "outputs": [
    {
     "data": {
      "text/html": [
       "<div>\n",
       "<style scoped>\n",
       "    .dataframe tbody tr th:only-of-type {\n",
       "        vertical-align: middle;\n",
       "    }\n",
       "\n",
       "    .dataframe tbody tr th {\n",
       "        vertical-align: top;\n",
       "    }\n",
       "\n",
       "    .dataframe thead th {\n",
       "        text-align: right;\n",
       "    }\n",
       "</style>\n",
       "<table border=\"1\" class=\"dataframe\">\n",
       "  <thead>\n",
       "    <tr style=\"text-align: right;\">\n",
       "      <th></th>\n",
       "      <th>enrollmentNumber</th>\n",
       "      <th>admissionNumber</th>\n",
       "      <th>studentName</th>\n",
       "    </tr>\n",
       "    <tr>\n",
       "      <th>srNo</th>\n",
       "      <th></th>\n",
       "      <th></th>\n",
       "      <th></th>\n",
       "    </tr>\n",
       "  </thead>\n",
       "  <tbody>\n",
       "    <tr>\n",
       "      <td>1</td>\n",
       "      <td>1613101016</td>\n",
       "      <td>16SCSE101757</td>\n",
       "      <td>AAYUSH  TYAGI</td>\n",
       "    </tr>\n",
       "    <tr>\n",
       "      <td>2</td>\n",
       "      <td>1613101026</td>\n",
       "      <td>16SCSE101415</td>\n",
       "      <td>ABHISHEK</td>\n",
       "    </tr>\n",
       "    <tr>\n",
       "      <td>3</td>\n",
       "      <td>1613101051</td>\n",
       "      <td>16SCSE101222</td>\n",
       "      <td>ADITI  SINGH</td>\n",
       "    </tr>\n",
       "    <tr>\n",
       "      <td>4</td>\n",
       "      <td>1613101054</td>\n",
       "      <td>16SCSE101220</td>\n",
       "      <td>ADITYA  MANKAR</td>\n",
       "    </tr>\n",
       "    <tr>\n",
       "      <td>5</td>\n",
       "      <td>1613101079</td>\n",
       "      <td>16SCSE101085</td>\n",
       "      <td>AKASH  KANSAL</td>\n",
       "    </tr>\n",
       "  </tbody>\n",
       "</table>\n",
       "</div>"
      ],
      "text/plain": [
       "      enrollmentNumber admissionNumber     studentName\n",
       "srNo                                                  \n",
       "1           1613101016    16SCSE101757   AAYUSH  TYAGI\n",
       "2           1613101026    16SCSE101415        ABHISHEK\n",
       "3           1613101051    16SCSE101222    ADITI  SINGH\n",
       "4           1613101054    16SCSE101220  ADITYA  MANKAR\n",
       "5           1613101079    16SCSE101085   AKASH  KANSAL"
      ]
     },
     "execution_count": 5,
     "metadata": {},
     "output_type": "execute_result"
    }
   ],
   "source": [
    "# reading the files from folder 'batchwiselist' and creating dataframe for the same\n",
    "# listing all directories in the folder\n",
    "\n",
    "batchwiselist = 'C:/Users/Indranil/batchwiselist'\n",
    "files = glob.glob(batchwiselist + '/*.csv')\n",
    "batch_lst = []\n",
    "\n",
    "for file in files:\n",
    "    df=pd.read_csv(file,index_col='srNo')\n",
    "    batch_lst.append(df)\n",
    "\n",
    "frame = pd.concat(batch_lst)\n",
    "\n",
    "\n",
    "# Also dropping 'Unnamed: 0' column as it holds no value to dataframe since we have srNo column\n",
    "frame = frame.drop(columns=['Unnamed: 0'])\n",
    "frame.head()"
   ]
  },
  {
   "cell_type": "code",
   "execution_count": 6,
   "metadata": {},
   "outputs": [
    {
     "name": "stdout",
     "output_type": "stream",
     "text": [
      "<class 'pandas.core.frame.DataFrame'>\n",
      "Int64Index: 1017 entries, 1 to 43\n",
      "Data columns (total 3 columns):\n",
      "enrollmentNumber    1017 non-null int64\n",
      "admissionNumber     1017 non-null object\n",
      "studentName         1017 non-null object\n",
      "dtypes: int64(1), object(2)\n",
      "memory usage: 31.8+ KB\n"
     ]
    }
   ],
   "source": [
    "frame.info()"
   ]
  },
  {
   "cell_type": "markdown",
   "metadata": {},
   "source": [
    "****After creating a dataframe of all the files in the 'batchwiselist' folder we see the columns are the same as dataframe of 'studentlist'****"
   ]
  },
  {
   "cell_type": "code",
   "execution_count": 7,
   "metadata": {},
   "outputs": [
    {
     "data": {
      "text/plain": [
       "(1017, 3)"
      ]
     },
     "execution_count": 7,
     "metadata": {},
     "output_type": "execute_result"
    }
   ],
   "source": [
    "frame.shape"
   ]
  },
  {
   "cell_type": "code",
   "execution_count": 8,
   "metadata": {},
   "outputs": [],
   "source": [
    "# reading the files from folder 'quiz'\n",
    "\n",
    "quiz = 'C:/Users/Indranil/quiz'\n",
    "files1 = glob.glob(quiz + '/*.csv')\n",
    "quiz_lst = []\n",
    "\n",
    "for file in files1:\n",
    "    df1 = pd.read_csv(file)\n",
    "    quiz_lst.append(df1)\n",
    "\n",
    "# assigning quiz1 & quiz2 data to variable Quiz_1 & Quiz_2\n",
    "Quiz_1 = quiz_lst[0]\n",
    "Quiz_2 = quiz_lst[1]\n",
    "\n",
    "# dropping the columns which have only null values ID number, Institution, Department, Email address\n",
    "Quiz_1 = Quiz_1.drop(columns = ['ID number', 'Institution', 'Department', 'Email address'])\n",
    "Quiz_2 = Quiz_2.drop(columns = ['ID number', 'Institution', 'Department', 'Email address'])\n",
    "\n"
   ]
  },
  {
   "cell_type": "code",
   "execution_count": 9,
   "metadata": {},
   "outputs": [
    {
     "data": {
      "text/html": [
       "<div>\n",
       "<style scoped>\n",
       "    .dataframe tbody tr th:only-of-type {\n",
       "        vertical-align: middle;\n",
       "    }\n",
       "\n",
       "    .dataframe tbody tr th {\n",
       "        vertical-align: top;\n",
       "    }\n",
       "\n",
       "    .dataframe thead th {\n",
       "        text-align: right;\n",
       "    }\n",
       "</style>\n",
       "<table border=\"1\" class=\"dataframe\">\n",
       "  <thead>\n",
       "    <tr style=\"text-align: right;\">\n",
       "      <th></th>\n",
       "      <th>no of present</th>\n",
       "      <th>less than 50</th>\n",
       "      <th>between 50 and 60</th>\n",
       "      <th>between 60 and 70</th>\n",
       "      <th>between 70 and 80</th>\n",
       "      <th>greater than 80</th>\n",
       "    </tr>\n",
       "  </thead>\n",
       "  <tbody>\n",
       "    <tr>\n",
       "      <td>Quiz 1</td>\n",
       "      <td>NaN</td>\n",
       "      <td>NaN</td>\n",
       "      <td>NaN</td>\n",
       "      <td>NaN</td>\n",
       "      <td>NaN</td>\n",
       "      <td>NaN</td>\n",
       "    </tr>\n",
       "    <tr>\n",
       "      <td>Quiz 2</td>\n",
       "      <td>NaN</td>\n",
       "      <td>NaN</td>\n",
       "      <td>NaN</td>\n",
       "      <td>NaN</td>\n",
       "      <td>NaN</td>\n",
       "      <td>NaN</td>\n",
       "    </tr>\n",
       "  </tbody>\n",
       "</table>\n",
       "</div>"
      ],
      "text/plain": [
       "       no of present less than 50 between 50 and 60 between 60 and 70  \\\n",
       "Quiz 1           NaN          NaN               NaN               NaN   \n",
       "Quiz 2           NaN          NaN               NaN               NaN   \n",
       "\n",
       "       between 70 and 80 greater than 80  \n",
       "Quiz 1               NaN             NaN  \n",
       "Quiz 2               NaN             NaN  "
      ]
     },
     "execution_count": 9,
     "metadata": {},
     "output_type": "execute_result"
    }
   ],
   "source": [
    "# creating the statistics dataframe which will initially contain only NaN values\n",
    "\n",
    "statistics = pd.DataFrame(columns=[\"no of present\", \"less than 50\", \"between 50 and 60\", \"between 60 and 70\",\n",
    "                                   \"between 70 and 80\", \"greater than 80\"], index=['Quiz 1', 'Quiz 2'])\n",
    "statistics"
   ]
  },
  {
   "cell_type": "markdown",
   "metadata": {},
   "source": [
    "**The dataframe statistics has been created**"
   ]
  },
  {
   "cell_type": "code",
   "execution_count": 10,
   "metadata": {},
   "outputs": [],
   "source": [
    "# dropping null values in 'Quiz1' & 'Quiz2'\n",
    "\n",
    "Quiz_1['Firstname'] = Quiz_1['Firstname'].dropna()\n",
    "Quiz_2['Firstname'] = Quiz_2['Firstname'].dropna()"
   ]
  },
  {
   "cell_type": "code",
   "execution_count": 11,
   "metadata": {},
   "outputs": [],
   "source": [
    "# 'Grade/10.00' column in both the quiz has '-' present and thus replacing it with '0' as they are present in very small amount\n",
    "# also converting '0' to numeric type\n",
    "\n",
    "Quiz_1['Grade/10.00'] = Quiz_1['Grade/10.00'].str.replace('-', '0')\n",
    "Quiz_2['Grade/10.00'] = Quiz_2['Grade/10.00'].str.replace('-', '0')\n",
    "Quiz_1['Grade/10.00'] = Quiz_1['Grade/10.00'].apply(pd.to_numeric)\n",
    "Quiz_2['Grade/10.00'] = Quiz_2['Grade/10.00'].apply(pd.to_numeric)\n"
   ]
  },
  {
   "cell_type": "markdown",
   "metadata": {},
   "source": [
    "**Now  we have 'Quiz_1' & 'Quiz_2' as ready dataframes for allocating students as per the scores obtained in a quiz**"
   ]
  },
  {
   "cell_type": "markdown",
   "metadata": {},
   "source": [
    "#### Filling the dataframe 'statistics' with the required data from 'Quiz_1' & 'Quiz_2' "
   ]
  },
  {
   "cell_type": "code",
   "execution_count": 12,
   "metadata": {},
   "outputs": [],
   "source": [
    "statistics['no of present'] = [Quiz_1['Firstname'].count(), Quiz_2['Firstname'].count()]\n",
    "\n",
    "statistics['less than 50'] = [Quiz_1[Quiz_1['Grade/10.00'].between(0,4.9, inclusive=True)]['Firstname'].count(),\n",
    "                                  Quiz_2[Quiz_2['Grade/10.00'].between(0,4.9, inclusive=True)]['Firstname'].count()]\n",
    "                                     \n",
    "statistics['between 50 and 60'] = [Quiz_1[Quiz_1['Grade/10.00'].between(5,5.9, inclusive=True)]['Firstname'].count(),\n",
    "                                  Quiz_2[Quiz_2['Grade/10.00'].between(5,5.9, inclusive=True)]['Firstname'].count()]\n",
    "                                     \n",
    "statistics['between 60 and 70'] = [Quiz_1[Quiz_1['Grade/10.00'].between(6,6.9, inclusive=True)]['Firstname'].count(),\n",
    "                                  Quiz_2[Quiz_2['Grade/10.00'].between(6,6.9, inclusive=True)]['Firstname'].count()]\n",
    "                                     \n",
    "statistics['between 70 and 80'] = [Quiz_1[Quiz_1['Grade/10.00'].between(7,7.9, inclusive=True)]['Firstname'].count(),\n",
    "                                  Quiz_2[Quiz_2['Grade/10.00'].between(7,7.9, inclusive=True)]['Firstname'].count()]\n",
    "                                     \n",
    "statistics['greater than 80'] = [Quiz_1[Quiz_1['Grade/10.00'].between(8,10, inclusive=True)]['Firstname'].count(),\n",
    "                                  Quiz_2[Quiz_2['Grade/10.00'].between(8,10, inclusive=True)]['Firstname'].count()]"
   ]
  },
  {
   "cell_type": "code",
   "execution_count": 13,
   "metadata": {},
   "outputs": [
    {
     "data": {
      "text/html": [
       "<div>\n",
       "<style scoped>\n",
       "    .dataframe tbody tr th:only-of-type {\n",
       "        vertical-align: middle;\n",
       "    }\n",
       "\n",
       "    .dataframe tbody tr th {\n",
       "        vertical-align: top;\n",
       "    }\n",
       "\n",
       "    .dataframe thead th {\n",
       "        text-align: right;\n",
       "    }\n",
       "</style>\n",
       "<table border=\"1\" class=\"dataframe\">\n",
       "  <thead>\n",
       "    <tr style=\"text-align: right;\">\n",
       "      <th></th>\n",
       "      <th>no of present</th>\n",
       "      <th>less than 50</th>\n",
       "      <th>between 50 and 60</th>\n",
       "      <th>between 60 and 70</th>\n",
       "      <th>between 70 and 80</th>\n",
       "      <th>greater than 80</th>\n",
       "    </tr>\n",
       "  </thead>\n",
       "  <tbody>\n",
       "    <tr>\n",
       "      <td>Quiz 1</td>\n",
       "      <td>659</td>\n",
       "      <td>127</td>\n",
       "      <td>69</td>\n",
       "      <td>57</td>\n",
       "      <td>58</td>\n",
       "      <td>348</td>\n",
       "    </tr>\n",
       "    <tr>\n",
       "      <td>Quiz 2</td>\n",
       "      <td>680</td>\n",
       "      <td>93</td>\n",
       "      <td>40</td>\n",
       "      <td>39</td>\n",
       "      <td>41</td>\n",
       "      <td>467</td>\n",
       "    </tr>\n",
       "  </tbody>\n",
       "</table>\n",
       "</div>"
      ],
      "text/plain": [
       "        no of present  less than 50  between 50 and 60  between 60 and 70  \\\n",
       "Quiz 1            659           127                 69                 57   \n",
       "Quiz 2            680            93                 40                 39   \n",
       "\n",
       "        between 70 and 80  greater than 80  \n",
       "Quiz 1                 58              348  \n",
       "Quiz 2                 41              467  "
      ]
     },
     "execution_count": 13,
     "metadata": {},
     "output_type": "execute_result"
    }
   ],
   "source": [
    "statistics"
   ]
  }
 ],
 "metadata": {
  "kernelspec": {
   "display_name": "Python 3",
   "language": "python",
   "name": "python3"
  },
  "language_info": {
   "codemirror_mode": {
    "name": "ipython",
    "version": 3
   },
   "file_extension": ".py",
   "mimetype": "text/x-python",
   "name": "python",
   "nbconvert_exporter": "python",
   "pygments_lexer": "ipython3",
   "version": "3.7.4"
  }
 },
 "nbformat": 4,
 "nbformat_minor": 2
}
