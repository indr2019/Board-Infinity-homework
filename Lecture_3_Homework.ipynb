{
  "nbformat": 4,
  "nbformat_minor": 0,
  "metadata": {
    "colab": {
      "name": "Lecture_3_Homework.ipynb",
      "provenance": [],
      "collapsed_sections": [],
      "include_colab_link": true
    },
    "kernelspec": {
      "name": "python3",
      "display_name": "Python 3"
    }
  },
  "cells": [
    {
      "cell_type": "markdown",
      "metadata": {
        "id": "view-in-github",
        "colab_type": "text"
      },
      "source": [
        "<a href=\"https://colab.research.google.com/github/indr2019/Board-Infinity-homework/blob/master/Lecture_3_Homework.ipynb\" target=\"_parent\"><img src=\"https://colab.research.google.com/assets/colab-badge.svg\" alt=\"Open In Colab\"/></a>"
      ]
    },
    {
      "cell_type": "code",
      "metadata": {
        "id": "Wo_uSCQmmyai",
        "colab_type": "code",
        "colab": {}
      },
      "source": [
        "# pandas and numpy are already pre installed and hence only importing the same\n",
        "import pandas as pd\n",
        "import numpy as np\n"
      ],
      "execution_count": 0,
      "outputs": []
    },
    {
      "cell_type": "code",
      "metadata": {
        "id": "TlGhWCEKnSJU",
        "colab_type": "code",
        "outputId": "1dd13ee3-794b-4732-92d5-7e8db804683e",
        "colab": {
          "base_uri": "https://localhost:8080/",
          "height": 34
        }
      },
      "source": [
        "# creating a List of 5 random numbers\n",
        "lst = [8,5,3,7,4]\n",
        "lst"
      ],
      "execution_count": 0,
      "outputs": [
        {
          "output_type": "execute_result",
          "data": {
            "text/plain": [
              "[8, 5, 3, 7, 4]"
            ]
          },
          "metadata": {
            "tags": []
          },
          "execution_count": 11
        }
      ]
    },
    {
      "cell_type": "code",
      "metadata": {
        "id": "fXvSansIp19A",
        "colab_type": "code",
        "outputId": "d8c0dde1-c3e8-4992-b4cd-1a5287df1b5c",
        "colab": {
          "base_uri": "https://localhost:8080/",
          "height": 34
        }
      },
      "source": [
        "# converting above list into array\n",
        "num = np.array(lst)\n",
        "num"
      ],
      "execution_count": 0,
      "outputs": [
        {
          "output_type": "execute_result",
          "data": {
            "text/plain": [
              "array([8, 5, 3, 7, 4])"
            ]
          },
          "metadata": {
            "tags": []
          },
          "execution_count": 12
        }
      ]
    },
    {
      "cell_type": "code",
      "metadata": {
        "id": "0Ye5rraAnyZP",
        "colab_type": "code",
        "outputId": "390c6f9c-52d1-43a5-9b71-9dd1c324e589",
        "colab": {
          "base_uri": "https://localhost:8080/",
          "height": 34
        }
      },
      "source": [
        "# numpy array of 10 numbers and its printing its shape\n",
        "\n",
        "num_ten = np.arange(1,11, dtype=int)\n",
        "num_ten"
      ],
      "execution_count": 0,
      "outputs": [
        {
          "output_type": "execute_result",
          "data": {
            "text/plain": [
              "array([ 1,  2,  3,  4,  5,  6,  7,  8,  9, 10])"
            ]
          },
          "metadata": {
            "tags": []
          },
          "execution_count": 14
        }
      ]
    },
    {
      "cell_type": "code",
      "metadata": {
        "id": "weZdvCnfo7Eg",
        "colab_type": "code",
        "outputId": "009e07a9-2152-4a6d-e3fb-11bba9090c38",
        "colab": {
          "base_uri": "https://localhost:8080/",
          "height": 34
        }
      },
      "source": [
        "# printing the shape of above array\n",
        "\n",
        "print('Shape of array is:',num_ten.shape)"
      ],
      "execution_count": 0,
      "outputs": [
        {
          "output_type": "stream",
          "text": [
            "Shape of array is: (10,)\n"
          ],
          "name": "stdout"
        }
      ]
    },
    {
      "cell_type": "code",
      "metadata": {
        "id": "8EBsNvT1phcZ",
        "colab_type": "code",
        "outputId": "5ab20e86-1d61-46b9-d1f8-e20fcb9c04a9",
        "colab": {
          "base_uri": "https://localhost:8080/",
          "height": 34
        }
      },
      "source": [
        "# numpy array of 5 elements and multiplying by 10\n",
        "\n",
        "numbers = np.array([4,2,1,8,9])\n",
        "numbers * 10"
      ],
      "execution_count": 0,
      "outputs": [
        {
          "output_type": "execute_result",
          "data": {
            "text/plain": [
              "array([40, 20, 10, 80, 90])"
            ]
          },
          "metadata": {
            "tags": []
          },
          "execution_count": 18
        }
      ]
    },
    {
      "cell_type": "code",
      "metadata": {
        "id": "r5LYx4AWqtNn",
        "colab_type": "code",
        "outputId": "d8ca8467-90e6-4bce-9ba8-de0adf5abda5",
        "colab": {
          "base_uri": "https://localhost:8080/",
          "height": 34
        }
      },
      "source": [
        "# dividing the numbers by 5\n",
        "\n",
        "numbers / 5"
      ],
      "execution_count": 0,
      "outputs": [
        {
          "output_type": "execute_result",
          "data": {
            "text/plain": [
              "array([0.8, 0.4, 0.2, 1.6, 1.8])"
            ]
          },
          "metadata": {
            "tags": []
          },
          "execution_count": 19
        }
      ]
    },
    {
      "cell_type": "code",
      "metadata": {
        "id": "gc0aRtlmq1FY",
        "colab_type": "code",
        "outputId": "48e42661-5ea1-44db-9962-d65360f6dc63",
        "colab": {
          "base_uri": "https://localhost:8080/",
          "height": 34
        }
      },
      "source": [
        "# adding 25 to the 'numbers' array\n",
        "\n",
        "numbers + 25"
      ],
      "execution_count": 0,
      "outputs": [
        {
          "output_type": "execute_result",
          "data": {
            "text/plain": [
              "array([29, 27, 26, 33, 34])"
            ]
          },
          "metadata": {
            "tags": []
          },
          "execution_count": 20
        }
      ]
    },
    {
      "cell_type": "code",
      "metadata": {
        "id": "R9DArysNrJ-f",
        "colab_type": "code",
        "outputId": "c445f805-5c16-4473-e459-38e39f2924a2",
        "colab": {
          "base_uri": "https://localhost:8080/",
          "height": 34
        }
      },
      "source": [
        "# printing shape of 'numbers' array\n",
        "\n",
        "print('Shape of numbers array is:',numbers.shape)"
      ],
      "execution_count": 0,
      "outputs": [
        {
          "output_type": "stream",
          "text": [
            "Shape of numbers array is: (5,)\n"
          ],
          "name": "stdout"
        }
      ]
    },
    {
      "cell_type": "code",
      "metadata": {
        "id": "Tdy8MOoFrSVn",
        "colab_type": "code",
        "outputId": "67b8b050-9097-4c66-cd91-316a951929bd",
        "colab": {
          "base_uri": "https://localhost:8080/",
          "height": 102
        }
      },
      "source": [
        "# numpy array 'numbers_2' and reshape to (5,2)\n",
        "\n",
        "numbers_2 = np.array([5,4,3,9,6,2,1,8,7,10]).reshape(5,2)\n",
        "numbers_2"
      ],
      "execution_count": 0,
      "outputs": [
        {
          "output_type": "execute_result",
          "data": {
            "text/plain": [
              "array([[ 5,  4],\n",
              "       [ 3,  9],\n",
              "       [ 6,  2],\n",
              "       [ 1,  8],\n",
              "       [ 7, 10]])"
            ]
          },
          "metadata": {
            "tags": []
          },
          "execution_count": 24
        }
      ]
    },
    {
      "cell_type": "code",
      "metadata": {
        "id": "YpTiPwYMr18f",
        "colab_type": "code",
        "outputId": "f7890ae9-0d03-4f3a-ae0a-63fddfbe0a34",
        "colab": {
          "base_uri": "https://localhost:8080/",
          "height": 119
        }
      },
      "source": [
        "# numpy array between range 10 & 100\n",
        "\n",
        "numbers_3 = np.arange(10,100,dtype=int)\n",
        "numbers_3"
      ],
      "execution_count": 0,
      "outputs": [
        {
          "output_type": "execute_result",
          "data": {
            "text/plain": [
              "array([10, 11, 12, 13, 14, 15, 16, 17, 18, 19, 20, 21, 22, 23, 24, 25, 26,\n",
              "       27, 28, 29, 30, 31, 32, 33, 34, 35, 36, 37, 38, 39, 40, 41, 42, 43,\n",
              "       44, 45, 46, 47, 48, 49, 50, 51, 52, 53, 54, 55, 56, 57, 58, 59, 60,\n",
              "       61, 62, 63, 64, 65, 66, 67, 68, 69, 70, 71, 72, 73, 74, 75, 76, 77,\n",
              "       78, 79, 80, 81, 82, 83, 84, 85, 86, 87, 88, 89, 90, 91, 92, 93, 94,\n",
              "       95, 96, 97, 98, 99])"
            ]
          },
          "metadata": {
            "tags": []
          },
          "execution_count": 29
        }
      ]
    },
    {
      "cell_type": "code",
      "metadata": {
        "id": "s5UOUw02ttUJ",
        "colab_type": "code",
        "outputId": "956c37fa-18d9-407a-d595-79a0e3a30c63",
        "colab": {
          "base_uri": "https://localhost:8080/",
          "height": 153
        }
      },
      "source": [
        "# numpy array between 10 & 200 and only printing even numbers\n",
        "\n",
        "numbers_4 = np.arange(10,200,2)\n",
        "numbers_4\n"
      ],
      "execution_count": 0,
      "outputs": [
        {
          "output_type": "execute_result",
          "data": {
            "text/plain": [
              "array([ 10,  12,  14,  16,  18,  20,  22,  24,  26,  28,  30,  32,  34,\n",
              "        36,  38,  40,  42,  44,  46,  48,  50,  52,  54,  56,  58,  60,\n",
              "        62,  64,  66,  68,  70,  72,  74,  76,  78,  80,  82,  84,  86,\n",
              "        88,  90,  92,  94,  96,  98, 100, 102, 104, 106, 108, 110, 112,\n",
              "       114, 116, 118, 120, 122, 124, 126, 128, 130, 132, 134, 136, 138,\n",
              "       140, 142, 144, 146, 148, 150, 152, 154, 156, 158, 160, 162, 164,\n",
              "       166, 168, 170, 172, 174, 176, 178, 180, 182, 184, 186, 188, 190,\n",
              "       192, 194, 196, 198])"
            ]
          },
          "metadata": {
            "tags": []
          },
          "execution_count": 30
        }
      ]
    },
    {
      "cell_type": "code",
      "metadata": {
        "id": "eY9-v3Yhukqx",
        "colab_type": "code",
        "outputId": "fab86809-33b0-48e4-b9f5-3b99c5088d6d",
        "colab": {
          "base_uri": "https://localhost:8080/",
          "height": 359
        }
      },
      "source": [
        "# importing a csv file from url and printing first 10 rows\n",
        "\n",
        "df_1 = pd.read_csv('https://docs.google.com/spreadsheets/d/e/2PACX-1vRkBuDTd8RCydM72-uLD2nJh2fBEG7M1BpiY5P5qj2k1LhLISYTaBBgOGyMbpr2vVUGBUDy_iTfS0sZ/pub?output=csv') # original URL is redirecting to below URL containing csv file\n",
        "df_1.head(10)"
      ],
      "execution_count": 0,
      "outputs": [
        {
          "output_type": "execute_result",
          "data": {
            "text/html": [
              "<div>\n",
              "<style scoped>\n",
              "    .dataframe tbody tr th:only-of-type {\n",
              "        vertical-align: middle;\n",
              "    }\n",
              "\n",
              "    .dataframe tbody tr th {\n",
              "        vertical-align: top;\n",
              "    }\n",
              "\n",
              "    .dataframe thead th {\n",
              "        text-align: right;\n",
              "    }\n",
              "</style>\n",
              "<table border=\"1\" class=\"dataframe\">\n",
              "  <thead>\n",
              "    <tr style=\"text-align: right;\">\n",
              "      <th></th>\n",
              "      <th>ID</th>\n",
              "      <th>Agency</th>\n",
              "      <th>Agency Type</th>\n",
              "      <th>Distribution Channel</th>\n",
              "      <th>Product Name</th>\n",
              "      <th>Duration</th>\n",
              "      <th>Destination</th>\n",
              "      <th>Net Sales</th>\n",
              "      <th>Commision (in value)</th>\n",
              "      <th>Age</th>\n",
              "      <th>Claim</th>\n",
              "    </tr>\n",
              "  </thead>\n",
              "  <tbody>\n",
              "    <tr>\n",
              "      <th>0</th>\n",
              "      <td>2010</td>\n",
              "      <td>EPX</td>\n",
              "      <td>Travel Agency</td>\n",
              "      <td>Online</td>\n",
              "      <td>Cancellation Plan</td>\n",
              "      <td>61</td>\n",
              "      <td>PHILIPPINES</td>\n",
              "      <td>12.000000</td>\n",
              "      <td>0.000000</td>\n",
              "      <td>41</td>\n",
              "      <td>0</td>\n",
              "    </tr>\n",
              "    <tr>\n",
              "      <th>1</th>\n",
              "      <td>4245</td>\n",
              "      <td>EPX</td>\n",
              "      <td>Travel Agency</td>\n",
              "      <td>Online</td>\n",
              "      <td>Cancellation Plan</td>\n",
              "      <td>4</td>\n",
              "      <td>MALAYSIA</td>\n",
              "      <td>17.000000</td>\n",
              "      <td>0.000000</td>\n",
              "      <td>35</td>\n",
              "      <td>0</td>\n",
              "    </tr>\n",
              "    <tr>\n",
              "      <th>2</th>\n",
              "      <td>9251</td>\n",
              "      <td>CWT</td>\n",
              "      <td>Travel Agency</td>\n",
              "      <td>Online</td>\n",
              "      <td>Rental Vehicle Excess Insurance</td>\n",
              "      <td>26</td>\n",
              "      <td>THAILAND</td>\n",
              "      <td>19.800000</td>\n",
              "      <td>11.880000</td>\n",
              "      <td>47</td>\n",
              "      <td>0</td>\n",
              "    </tr>\n",
              "    <tr>\n",
              "      <th>3</th>\n",
              "      <td>4754</td>\n",
              "      <td>EPX</td>\n",
              "      <td>Travel Agency</td>\n",
              "      <td>Online</td>\n",
              "      <td>2 way Comprehensive Plan</td>\n",
              "      <td>15</td>\n",
              "      <td>HONG KONG</td>\n",
              "      <td>27.000000</td>\n",
              "      <td>0.000000</td>\n",
              "      <td>48</td>\n",
              "      <td>0</td>\n",
              "    </tr>\n",
              "    <tr>\n",
              "      <th>4</th>\n",
              "      <td>8840</td>\n",
              "      <td>EPX</td>\n",
              "      <td>Travel Agency</td>\n",
              "      <td>Online</td>\n",
              "      <td>2 way Comprehensive Plan</td>\n",
              "      <td>15</td>\n",
              "      <td>MALAYSIA</td>\n",
              "      <td>37.000000</td>\n",
              "      <td>0.000000</td>\n",
              "      <td>36</td>\n",
              "      <td>0</td>\n",
              "    </tr>\n",
              "    <tr>\n",
              "      <th>5</th>\n",
              "      <td>5959</td>\n",
              "      <td>EPX</td>\n",
              "      <td>Travel Agency</td>\n",
              "      <td>Online</td>\n",
              "      <td>2 way Comprehensive Plan</td>\n",
              "      <td>4</td>\n",
              "      <td>THAILAND</td>\n",
              "      <td>25.000000</td>\n",
              "      <td>0.000000</td>\n",
              "      <td>38</td>\n",
              "      <td>0</td>\n",
              "    </tr>\n",
              "    <tr>\n",
              "      <th>6</th>\n",
              "      <td>6031</td>\n",
              "      <td>EPX</td>\n",
              "      <td>Travel Agency</td>\n",
              "      <td>Online</td>\n",
              "      <td>Cancellation Plan</td>\n",
              "      <td>215</td>\n",
              "      <td>UNITED KINGDOM</td>\n",
              "      <td>59.000000</td>\n",
              "      <td>0.000000</td>\n",
              "      <td>36</td>\n",
              "      <td>0</td>\n",
              "    </tr>\n",
              "    <tr>\n",
              "      <th>7</th>\n",
              "      <td>8394</td>\n",
              "      <td>JZI</td>\n",
              "      <td>Airlines</td>\n",
              "      <td>Online</td>\n",
              "      <td>Basic Plan</td>\n",
              "      <td>31</td>\n",
              "      <td>VIET NAM</td>\n",
              "      <td>22.000000</td>\n",
              "      <td>7.700000</td>\n",
              "      <td>43</td>\n",
              "      <td>0</td>\n",
              "    </tr>\n",
              "    <tr>\n",
              "      <th>8</th>\n",
              "      <td>3017</td>\n",
              "      <td>EPX</td>\n",
              "      <td>Travel Agency</td>\n",
              "      <td>Online</td>\n",
              "      <td>2 way Comprehensive Plan</td>\n",
              "      <td>13</td>\n",
              "      <td>CHINA</td>\n",
              "      <td>48.662699</td>\n",
              "      <td>0.000000</td>\n",
              "      <td>36</td>\n",
              "      <td>1</td>\n",
              "    </tr>\n",
              "    <tr>\n",
              "      <th>9</th>\n",
              "      <td>8054</td>\n",
              "      <td>C2B</td>\n",
              "      <td>Airlines</td>\n",
              "      <td>Online</td>\n",
              "      <td>Bronze Plan</td>\n",
              "      <td>10</td>\n",
              "      <td>SINGAPORE</td>\n",
              "      <td>23.258824</td>\n",
              "      <td>5.817294</td>\n",
              "      <td>28</td>\n",
              "      <td>1</td>\n",
              "    </tr>\n",
              "  </tbody>\n",
              "</table>\n",
              "</div>"
            ],
            "text/plain": [
              "     ID Agency    Agency Type  ... Commision (in value) Age  Claim\n",
              "0  2010    EPX  Travel Agency  ...             0.000000  41      0\n",
              "1  4245    EPX  Travel Agency  ...             0.000000  35      0\n",
              "2  9251    CWT  Travel Agency  ...            11.880000  47      0\n",
              "3  4754    EPX  Travel Agency  ...             0.000000  48      0\n",
              "4  8840    EPX  Travel Agency  ...             0.000000  36      0\n",
              "5  5959    EPX  Travel Agency  ...             0.000000  38      0\n",
              "6  6031    EPX  Travel Agency  ...             0.000000  36      0\n",
              "7  8394    JZI       Airlines  ...             7.700000  43      0\n",
              "8  3017    EPX  Travel Agency  ...             0.000000  36      1\n",
              "9  8054    C2B       Airlines  ...             5.817294  28      1\n",
              "\n",
              "[10 rows x 11 columns]"
            ]
          },
          "metadata": {
            "tags": []
          },
          "execution_count": 43
        }
      ]
    },
    {
      "cell_type": "code",
      "metadata": {
        "id": "IJcAi4hmyS6S",
        "colab_type": "code",
        "colab": {}
      },
      "source": [
        "# adding column 'Random age' and assign 10 times original age\n",
        "\n",
        "df_1['Random age'] = df_1['Age'] * 10"
      ],
      "execution_count": 0,
      "outputs": []
    },
    {
      "cell_type": "code",
      "metadata": {
        "id": "gz3UPdC5zhO4",
        "colab_type": "code",
        "outputId": "5ecaaf4b-9f2f-4f28-e9ae-65e2f376513e",
        "colab": {
          "base_uri": "https://localhost:8080/",
          "height": 359
        }
      },
      "source": [
        "# print 1st ten rows of columns 'Age' and 'Random age'\n",
        "\n",
        "df_1[['Age', 'Random age']].head(10)"
      ],
      "execution_count": 0,
      "outputs": [
        {
          "output_type": "execute_result",
          "data": {
            "text/html": [
              "<div>\n",
              "<style scoped>\n",
              "    .dataframe tbody tr th:only-of-type {\n",
              "        vertical-align: middle;\n",
              "    }\n",
              "\n",
              "    .dataframe tbody tr th {\n",
              "        vertical-align: top;\n",
              "    }\n",
              "\n",
              "    .dataframe thead th {\n",
              "        text-align: right;\n",
              "    }\n",
              "</style>\n",
              "<table border=\"1\" class=\"dataframe\">\n",
              "  <thead>\n",
              "    <tr style=\"text-align: right;\">\n",
              "      <th></th>\n",
              "      <th>Age</th>\n",
              "      <th>Random age</th>\n",
              "    </tr>\n",
              "  </thead>\n",
              "  <tbody>\n",
              "    <tr>\n",
              "      <th>0</th>\n",
              "      <td>41</td>\n",
              "      <td>410</td>\n",
              "    </tr>\n",
              "    <tr>\n",
              "      <th>1</th>\n",
              "      <td>35</td>\n",
              "      <td>350</td>\n",
              "    </tr>\n",
              "    <tr>\n",
              "      <th>2</th>\n",
              "      <td>47</td>\n",
              "      <td>470</td>\n",
              "    </tr>\n",
              "    <tr>\n",
              "      <th>3</th>\n",
              "      <td>48</td>\n",
              "      <td>480</td>\n",
              "    </tr>\n",
              "    <tr>\n",
              "      <th>4</th>\n",
              "      <td>36</td>\n",
              "      <td>360</td>\n",
              "    </tr>\n",
              "    <tr>\n",
              "      <th>5</th>\n",
              "      <td>38</td>\n",
              "      <td>380</td>\n",
              "    </tr>\n",
              "    <tr>\n",
              "      <th>6</th>\n",
              "      <td>36</td>\n",
              "      <td>360</td>\n",
              "    </tr>\n",
              "    <tr>\n",
              "      <th>7</th>\n",
              "      <td>43</td>\n",
              "      <td>430</td>\n",
              "    </tr>\n",
              "    <tr>\n",
              "      <th>8</th>\n",
              "      <td>36</td>\n",
              "      <td>360</td>\n",
              "    </tr>\n",
              "    <tr>\n",
              "      <th>9</th>\n",
              "      <td>28</td>\n",
              "      <td>280</td>\n",
              "    </tr>\n",
              "  </tbody>\n",
              "</table>\n",
              "</div>"
            ],
            "text/plain": [
              "   Age  Random age\n",
              "0   41         410\n",
              "1   35         350\n",
              "2   47         470\n",
              "3   48         480\n",
              "4   36         360\n",
              "5   38         380\n",
              "6   36         360\n",
              "7   43         430\n",
              "8   36         360\n",
              "9   28         280"
            ]
          },
          "metadata": {
            "tags": []
          },
          "execution_count": 48
        }
      ]
    },
    {
      "cell_type": "code",
      "metadata": {
        "id": "nLSRZzr9z0tR",
        "colab_type": "code",
        "outputId": "6897ac3b-fed0-4742-9e61-91130594ccc6",
        "colab": {
          "base_uri": "https://localhost:8080/",
          "height": 221
        }
      },
      "source": [
        "# print value counts of 'Destination', 'Claim' & 'Agency type'\n",
        "\n",
        "df_1['Destination'].value_counts()"
      ],
      "execution_count": 0,
      "outputs": [
        {
          "output_type": "execute_result",
          "data": {
            "text/plain": [
              "SINGAPORE       14242\n",
              "THAILAND         4562\n",
              "MALAYSIA         4359\n",
              "CHINA            3909\n",
              "AUSTRALIA        3011\n",
              "                ...  \n",
              "BELARUS             2\n",
              "BERMUDA             2\n",
              "BHUTAN              2\n",
              "TURKMENISTAN        1\n",
              "ZAMBIA              1\n",
              "Name: Destination, Length: 97, dtype: int64"
            ]
          },
          "metadata": {
            "tags": []
          },
          "execution_count": 58
        }
      ]
    },
    {
      "cell_type": "code",
      "metadata": {
        "id": "B1W1ccir0vUE",
        "colab_type": "code",
        "outputId": "6d62ca50-fb49-4efd-c7f4-b131bbd82497",
        "colab": {
          "base_uri": "https://localhost:8080/",
          "height": 68
        }
      },
      "source": [
        "df_1['Claim'].value_counts()"
      ],
      "execution_count": 0,
      "outputs": [
        {
          "output_type": "execute_result",
          "data": {
            "text/plain": [
              "0    43590\n",
              "1     8720\n",
              "Name: Claim, dtype: int64"
            ]
          },
          "metadata": {
            "tags": []
          },
          "execution_count": 59
        }
      ]
    },
    {
      "cell_type": "code",
      "metadata": {
        "id": "CvcPyuw8HLY3",
        "colab_type": "code",
        "outputId": "5ceb2159-c57c-4259-cf45-374c194815bd",
        "colab": {
          "base_uri": "https://localhost:8080/",
          "height": 68
        }
      },
      "source": [
        "df_1['Agency Type'].value_counts()"
      ],
      "execution_count": 0,
      "outputs": [
        {
          "output_type": "execute_result",
          "data": {
            "text/plain": [
              "Travel Agency    34996\n",
              "Airlines         17314\n",
              "Name: Agency Type, dtype: int64"
            ]
          },
          "metadata": {
            "tags": []
          },
          "execution_count": 60
        }
      ]
    },
    {
      "cell_type": "code",
      "metadata": {
        "id": "C2qCW28THNWZ",
        "colab_type": "code",
        "outputId": "3682e21b-2d10-4c5b-d6d5-ede400a1341d",
        "colab": {
          "base_uri": "https://localhost:8080/",
          "height": 265
        }
      },
      "source": [
        "# pie diagram of agency type\n",
        "\n",
        "df_1['Agency Type'].value_counts().plot(kind='pie')"
      ],
      "execution_count": 0,
      "outputs": [
        {
          "output_type": "execute_result",
          "data": {
            "text/plain": [
              "<matplotlib.axes._subplots.AxesSubplot at 0x7f6962bdc8d0>"
            ]
          },
          "metadata": {
            "tags": []
          },
          "execution_count": 64
        },
        {
          "output_type": "display_data",
          "data": {
            "image/png": "[encoded data removed]",
            "text/plain": [
              "<Figure size 432x288 with 1 Axes>"
            ]
          },
          "metadata": {
            "tags": []
          }
        }
      ]
    },
    {
      "cell_type": "code",
      "metadata": {
        "id": "V3UgJaf5HzlY",
        "colab_type": "code",
        "outputId": "4e90809f-5147-4f6e-9605-13a390e2f5cd",
        "colab": {
          "base_uri": "https://localhost:8080/",
          "height": 351
        }
      },
      "source": [
        "# bar graph of 'Destination type' (first 10 values)\n",
        "\n",
        "df_1['Destination'].value_counts().head(10).plot(kind='bar')"
      ],
      "execution_count": 0,
      "outputs": [
        {
          "output_type": "execute_result",
          "data": {
            "text/plain": [
              "<matplotlib.axes._subplots.AxesSubplot at 0x7f69627cb5f8>"
            ]
          },
          "metadata": {
            "tags": []
          },
          "execution_count": 70
        },
        {
          "output_type": "display_data",
          "data": {
            "image/png": "[encoded data removed]",
            "text/plain": [
              "<Figure size 432x288 with 1 Axes>"
            ]
          },
          "metadata": {
            "tags": []
          }
        }
      ]
    },
    {
      "cell_type": "code",
      "metadata": {
        "id": "QOxXClpYIQBo",
        "colab_type": "code",
        "outputId": "187d6f28-a4a2-4af2-d9fb-796289e46ddd",
        "colab": {
          "base_uri": "https://localhost:8080/",
          "height": 378
        }
      },
      "source": [
        "# bar graph of destination for customers of age = 25\n",
        "\n",
        "df_1[df_1['Age'].isin([25])]['Destination'].value_counts().head(10).plot(kind='bar')"
      ],
      "execution_count": 0,
      "outputs": [
        {
          "output_type": "execute_result",
          "data": {
            "text/plain": [
              "<matplotlib.axes._subplots.AxesSubplot at 0x7f6961fb0f60>"
            ]
          },
          "metadata": {
            "tags": []
          },
          "execution_count": 87
        },
        {
          "output_type": "display_data",
          "data": {
            "image/png": "[encoded data removed]",
            "text/plain": [
              "<Figure size 432x288 with 1 Axes>"
            ]
          },
          "metadata": {
            "tags": []
          }
        }
      ]
    },
    {
      "cell_type": "code",
      "metadata": {
        "id": "P8K8llD9Ktzp",
        "colab_type": "code",
        "colab": {}
      },
      "source": [
        ""
      ],
      "execution_count": 0,
      "outputs": []
    }
  ]
}